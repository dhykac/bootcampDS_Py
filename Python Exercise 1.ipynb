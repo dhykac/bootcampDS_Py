{
  "nbformat": 4,
  "nbformat_minor": 0,
  "metadata": {
    "kernelspec": {
      "display_name": "Python 3",
      "language": "python",
      "name": "python3"
    },
    "language_info": {
      "codemirror_mode": {
        "name": "ipython",
        "version": 3
      },
      "file_extension": ".py",
      "mimetype": "text/x-python",
      "name": "python",
      "nbconvert_exporter": "python",
      "pygments_lexer": "ipython3",
      "version": "3.7.0"
    },
    "colab": {
      "name": "Week 3 Coding Exercise - Andhyka.ipynb",
      "provenance": [],
      "collapsed_sections": []
    }
  },
  "cells": [
    {
      "cell_type": "markdown",
      "metadata": {
        "id": "hhIQeEv4JdpK"
      },
      "source": [
        "## Welcome to the Week 3 Coding Challenge!\n",
        "### This week's theme is: String! \n",
        "\n",
        "From this week forward, your function initialization method will not be given. You should figure it out by yourself. Keep up the good work!\n",
        "\n",
        "You only need **solve 2 question**!"
      ]
    },
    {
      "cell_type": "markdown",
      "metadata": {
        "id": "ZwHc-3vSJdpj"
      },
      "source": [
        "Problem 1: Find the amount of substring."
      ]
    },
    {
      "cell_type": "markdown",
      "metadata": {
        "id": "_rD65MuvJdpm"
      },
      "source": [
        "Create a function whose name is ```substring_count``` that does the following: \n",
        "\n",
        "Given a string and a substring. Count how many times the substring appears in the string. The first input is always the string (the longer one), and the second input is always the substring (the shorter one).\n",
        "\n",
        "##### Example 1:\n",
        "\n",
        "Input:\n",
        "\n",
        "string = 'ABCDCDC'\n",
        "\n",
        "substring = 'CD'\n",
        "\n",
        "How many times 'CD' appears in 'ABCDCDC'? \n",
        "2 times! So when we run ```substring_count('ABCDCDC', 'CD')``` the output will be '2'. \n",
        "\n",
        "Output: 2\n",
        "\n",
        "##### Example 2:\n",
        "\n",
        "String:\n",
        "\n",
        "string = 'ABCDCDC'\n",
        "\n",
        "substring = 'CDC'\n",
        "\n",
        "How many times 'CDC' appears in 'ABCDCDC'?\n",
        "2 times! Yes, it can overlap. AB**CDC**DC, and ABCD**CDC**. So when we run ```substring_count('ABCDCDC', 'CDC')``` the output will be '2'. \n",
        "\n",
        "Output: 2\n",
        "\n",
        "##### Example 3:\n",
        "\n",
        "string = 'DEDFDEDEDEG'\n",
        "\n",
        "substring = 'DED'\n",
        "\n",
        "How many times 'DED' appears in 'DEDFDEDEDEG'?\n",
        "3 times! First: **DED**FDEDEDEG. Second: DEDF**DED**EDEG. Third: DEDFDE**DED**EG.\n",
        "\n",
        "Output: 3"
      ]
    },
    {
      "cell_type": "code",
      "metadata": {
        "id": "-dQgvKqmJdpp"
      },
      "source": [
        "### Write your solution here ###\n",
        "def substring_count(string, sub):\n",
        "    count = start = 0\n",
        "    while True:\n",
        "        start = string.find(sub, start) + 1\n",
        "        if start > 0:\n",
        "            count+=1\n",
        "        else:\n",
        "            return count      "
      ],
      "execution_count": null,
      "outputs": []
    },
    {
      "cell_type": "code",
      "metadata": {
        "id": "Um0FiJYdJdps",
        "colab": {
          "base_uri": "https://localhost:8080/"
        },
        "outputId": "4daf480f-1ffa-40f8-8f21-108026ab244e"
      },
      "source": [
        "substring_count('ABCDCDC', 'CDC')\n",
        "#Expected output= 2"
      ],
      "execution_count": null,
      "outputs": [
        {
          "output_type": "execute_result",
          "data": {
            "text/plain": [
              "2"
            ]
          },
          "metadata": {},
          "execution_count": 9
        }
      ]
    },
    {
      "cell_type": "code",
      "metadata": {
        "id": "T4YeC9kmJdpv",
        "colab": {
          "base_uri": "https://localhost:8080/"
        },
        "outputId": "7cfa10ef-e2f2-41ec-b206-2b1f2a05d4d8"
      },
      "source": [
        "substring_count('DEDFDEDEDEG','DED')"
      ],
      "execution_count": null,
      "outputs": [
        {
          "output_type": "execute_result",
          "data": {
            "text/plain": [
              "3"
            ]
          },
          "metadata": {},
          "execution_count": 10
        }
      ]
    },
    {
      "cell_type": "markdown",
      "metadata": {
        "id": "kPc42YPuJdpw"
      },
      "source": [
        "Problem 2: How many different letters are there in the string?"
      ]
    },
    {
      "cell_type": "markdown",
      "metadata": {
        "id": "YtkU_gLYJdpx"
      },
      "source": [
        "Create a function called ```diff_letters``` that counts how many different letters are there in the input string.\n",
        "\n",
        "The input is just a single string.\n",
        "\n",
        "##### Example 1:\n",
        "\n",
        "Input: 'AAAAAAAAAB'\n",
        "\n",
        "Since there are only 2 different letters in the input string, the output is 2.\n",
        "\n",
        "When we run ```diff_letters```, the output is '2'.\n",
        "\n",
        "Output: 2\n",
        "\n",
        "##### Example 2:\n",
        "\n",
        "Input: 'ABCDAAAABBCCCE'\n",
        "\n",
        "Since there are 5 different letters in that string (A, B, C, D, E), the output is 5.\n",
        "\n",
        "Output: 5"
      ]
    },
    {
      "cell_type": "code",
      "metadata": {
        "id": "iGxH6AgYq7CM"
      },
      "source": [
        "### Write your code here ###\n",
        "def diff_letters(string): print(len(set(string)))"
      ],
      "execution_count": null,
      "outputs": []
    },
    {
      "cell_type": "code",
      "metadata": {
        "id": "uQkNjT2kJdpz",
        "colab": {
          "base_uri": "https://localhost:8080/"
        },
        "outputId": "5e8114e3-0a3c-49b9-bd17-a3536ce2c11c"
      },
      "source": [
        "string = 'ABCDAAAABBCCCE'\n",
        "diff_letters(string)"
      ],
      "execution_count": null,
      "outputs": [
        {
          "output_type": "stream",
          "name": "stdout",
          "text": [
            "5\n"
          ]
        }
      ]
    },
    {
      "cell_type": "code",
      "metadata": {
        "id": "_BAImneoJdp0",
        "colab": {
          "base_uri": "https://localhost:8080/"
        },
        "outputId": "3a9e629e-91bc-432d-bad9-1d9805b2d27c"
      },
      "source": [
        "string = 'AAAAAAAAAB'\n",
        "diff_letters(string)"
      ],
      "execution_count": null,
      "outputs": [
        {
          "output_type": "stream",
          "name": "stdout",
          "text": [
            "2\n"
          ]
        }
      ]
    },
    {
      "cell_type": "code",
      "metadata": {
        "colab": {
          "base_uri": "https://localhost:8080/"
        },
        "id": "se4MloRx_Qry",
        "outputId": "a4c13e5a-b074-4ecb-db91-0c7bf08ea114"
      },
      "source": [
        "string = 'XYZXYXYZZXY'\n",
        "diff_letters(string)"
      ],
      "execution_count": null,
      "outputs": [
        {
          "output_type": "stream",
          "name": "stdout",
          "text": [
            "3\n"
          ]
        }
      ]
    },
    {
      "cell_type": "code",
      "metadata": {
        "colab": {
          "base_uri": "https://localhost:8080/"
        },
        "id": "WZmeb-SL_RLY",
        "outputId": "16744c8f-9c7f-41dd-f9d0-5cf619307828"
      },
      "source": [
        "string = 'KLMNMNLKMNKL'\n",
        "diff_letters(string)"
      ],
      "execution_count": null,
      "outputs": [
        {
          "output_type": "stream",
          "name": "stdout",
          "text": [
            "4\n"
          ]
        }
      ]
    },
    {
      "cell_type": "markdown",
      "metadata": {
        "id": "fiXI1RgZJdp3"
      },
      "source": [
        "Problem 3: Find Distance Between Two Coordinates - Medium"
      ]
    },
    {
      "cell_type": "markdown",
      "metadata": {
        "id": "TZx_zMmbJdp3"
      },
      "source": [
        "Create a function called ```distance``` that does the following:\n",
        "\n",
        "Given two coordinates in a list. Your task is to calculate the distance between these two coordinates. The input of your function will be a string. The coordinate that appears first is the first coordinate, and the coordinate that appears after the comma is the second coordinate.\n",
        "\n",
        "##### Example 1:\n",
        "\n",
        "Input: \n",
        "\n",
        "'(5,5), (1,2)'\n",
        "\n",
        "This means, the first point's coordinate is (5,5), the second point's coordinate is (1,2). To calculate the distance between these two points, we use the usual euclidean distance formula here: https://wikimedia.org/api/rest_v1/media/math/render/svg/2e0c9ce1b3455cb9e92c6bad6684dbda02f69c82. \n",
        "\n",
        "The distance is: \n",
        "\n",
        "Square root of ((5-1)^2 + (5-2)^2) = Square root of (16 + 9) = Square root of (25) = 5.\n",
        "\n",
        "Output: 'The distance is 5'\n",
        "\n",
        "So, when we run the code ```distance('(5,5),(1,2)')``` the output will be 'The distance is 5'.\n",
        "\n",
        "##### Example 2:\n",
        "\n",
        "Input:\n",
        "\n",
        "'(0,-1), (-3,2)'\n",
        "\n",
        "The first coordinate is (0,-1), the second coordinate is (-3,2). The distance between them is:\n",
        "\n",
        "Square root of ((0- -3)^2 + (-1-2)^2) = Square root of (9 + 9) = Square root of (18) = 4.242640687\n",
        "\n",
        "Output: 'The distance is 4.242640687'\n",
        "\n",
        "So, when we run the code ```distance('(0,-1),(-3,2)')``` the output will be 'The distance is 4.242640487'\n",
        "\n",
        "##### FAQ:\n",
        "\n",
        "- Question: \"Desimalnya dibuletin ga?\"\n",
        "- Answer: \"Ga usah peduliin format output desimalnya. Mau keluar berapa angka di belakang koma gpp kok. Yang penting value nya bener.\" \n",
        "- Question: \"Lha bedanya apa sama soal week 2?\"\n",
        "- Answer: \"Bedanya kali ini inputnya cuma 1, dan dia berupa teks (string), bukan list kyk minggu lalu. Semangat!\""
      ]
    },
    {
      "cell_type": "code",
      "metadata": {
        "id": "qcACpDdPJdp8",
        "colab": {
          "base_uri": "https://localhost:8080/"
        },
        "outputId": "e58af6ac-163b-4095-a223-16180bb1b9cd"
      },
      "source": [
        "### Example\n",
        "a = '(5,5), (1,2)'\n",
        "\n",
        "distance(a) \n",
        "\n",
        "# when you run this cell, it is expected that the output will be:\n",
        "# 'The distance is 5'"
      ],
      "execution_count": null,
      "outputs": [
        {
          "output_type": "stream",
          "name": "stdout",
          "text": [
            "5.0\n"
          ]
        }
      ]
    },
    {
      "cell_type": "code",
      "metadata": {
        "id": "_z7gXtaTJdp9"
      },
      "source": [
        "#Write your code here\n",
        "import re\n",
        "def distance(string):\n",
        "  numbers = re.compile('-?\\d+')\n",
        "  ax = list(map(int, numbers.findall(string)))\n",
        "  result = ((ax[2]-ax[0])**2 + (ax[3]-ax[1])**2)**0.5\n",
        "  print(result)"
      ],
      "execution_count": null,
      "outputs": []
    },
    {
      "cell_type": "code",
      "metadata": {
        "id": "MT6iH_F4Jdp_",
        "colab": {
          "base_uri": "https://localhost:8080/"
        },
        "outputId": "35a05c5b-9e09-48bc-d20f-f89647dcfcfd"
      },
      "source": [
        "distance('(0,-1),(-3,2)')"
      ],
      "execution_count": null,
      "outputs": [
        {
          "output_type": "stream",
          "name": "stdout",
          "text": [
            "4.242640687119285\n"
          ]
        }
      ]
    },
    {
      "cell_type": "code",
      "metadata": {
        "id": "ObTz5xL7JdqB",
        "colab": {
          "base_uri": "https://localhost:8080/"
        },
        "outputId": "b15ff214-5bb8-4550-9dde-664dc6a4181c"
      },
      "source": [
        "distance ('(5,-5), (1,2)')"
      ],
      "execution_count": null,
      "outputs": [
        {
          "output_type": "stream",
          "name": "stdout",
          "text": [
            "8.06225774829855\n"
          ]
        }
      ]
    }
  ]
}