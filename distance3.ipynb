{
  "nbformat": 4,
  "nbformat_minor": 5,
  "metadata": {
    "kernelspec": {
      "display_name": "Python 3",
      "language": "python",
      "name": "python3"
    },
    "language_info": {
      "codemirror_mode": {
        "name": "ipython",
        "version": 3
      },
      "file_extension": ".py",
      "mimetype": "text/x-python",
      "name": "python",
      "nbconvert_exporter": "python",
      "pygments_lexer": "ipython3",
      "version": "3.8.5"
    },
    "colab": {
      "name": "distance3.ipynb",
      "provenance": [],
      "collapsed_sections": []
    }
  },
  "cells": [
    {
      "cell_type": "markdown",
      "metadata": {
        "id": "q_vw2BtGVqWv"
      },
      "source": [
        "### Maximum Distance Between 3 Points Function"
      ],
      "id": "q_vw2BtGVqWv"
    },
    {
      "cell_type": "markdown",
      "metadata": {
        "id": "k6qNbSInVqWw"
      },
      "source": [
        "Given three coordinates, determine which two points are the furthest apart, and output the length of their distance. Function should be called ```max_distance```. First coordinate is called 'A', second coordinate is called 'B', third coordinate is called 'C'. \n",
        "\n",
        "\n",
        "##### Example:\n",
        "A = [1,2],\n",
        "B = [10,-10],\n",
        "C = [-3, 5]\n",
        "\n",
        "- The distance between AB = 15\n",
        "- The distance between BC = 19.8\n",
        "- The distance between AC = 8.06\n",
        "\n",
        "Answer = \"The point B, C are furthest apart with distance 19.8\"\n"
      ],
      "id": "k6qNbSInVqWw"
    },
    {
      "cell_type": "code",
      "metadata": {
        "id": "vrtCLk3DmcMl"
      },
      "source": [
        "A = [1,2]\n",
        "B = [10,-10]\n",
        "C = [-3, 5]"
      ],
      "id": "vrtCLk3DmcMl",
      "execution_count": null,
      "outputs": []
    },
    {
      "cell_type": "code",
      "metadata": {
        "id": "la5u9FV4VqWw"
      },
      "source": [
        "### Write your solution here ###\n",
        "from math import sqrt\n",
        "\n",
        "p = []\n",
        "p.append(A)\n",
        "p.append(B)\n",
        "p.append(C)\n",
        "\n",
        "def dist(p1,p2):\n",
        "    x0 = p1[0] - p2[0]\n",
        "    y0 = p1[1] - p2[1]\n",
        "    return x0 * x0 + y0 * y0\n",
        "\n",
        "def maxDist(p):\n",
        " \n",
        "    n = len(p)\n",
        "    maxm = 0\n",
        "    for i in range(n):\n",
        "        for j in range(i + 1, n):\n",
        "             maxm = max(maxm, dist(p[i], p[j]) )\n",
        "    return sqrt(maxm)\n",
        "\n",
        "def max_distance(A,B,C):\n",
        "  n = 3\n",
        "  P = [\"A\", \"B\", \"C\"]\n",
        "  result = []\n",
        "  \n",
        "  for i in range(n):\n",
        "    for j in range(i + 1, n):\n",
        "      if maxDist(p) == sqrt(dist(p[i], p[j])):\n",
        "        result.append('The point')\n",
        "        result.append(P[i])\n",
        "        result.append(P[j])\n",
        "        result.append('are furthest apart with distance')\n",
        "        result.append(maxDist(p))\n",
        "        return ' '.join(str(e) for e in result)"
      ],
      "id": "la5u9FV4VqWw",
      "execution_count": null,
      "outputs": []
    },
    {
      "cell_type": "code",
      "metadata": {
        "colab": {
          "base_uri": "https://localhost:8080/",
          "height": 35
        },
        "id": "dloyof5bRTJN",
        "outputId": "fe4f16ec-4a5c-4994-ee6b-e4cc70ed346e"
      },
      "source": [
        "max_distance(A,B,C)"
      ],
      "id": "dloyof5bRTJN",
      "execution_count": null,
      "outputs": [
        {
          "output_type": "execute_result",
          "data": {
            "application/vnd.google.colaboratory.intrinsic+json": {
              "type": "string"
            },
            "text/plain": [
              "'The point B C are furthest apart with distance 19.849433241279208'"
            ]
          },
          "metadata": {},
          "execution_count": 10
        }
      ]
    }
  ]
}