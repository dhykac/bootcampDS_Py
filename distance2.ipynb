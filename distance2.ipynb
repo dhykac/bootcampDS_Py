{
  "nbformat": 4,
  "nbformat_minor": 0,
  "metadata": {
    "kernelspec": {
      "display_name": "Python 3",
      "language": "python",
      "name": "python3"
    },
    "language_info": {
      "codemirror_mode": {
        "name": "ipython",
        "version": 3
      },
      "file_extension": ".py",
      "mimetype": "text/x-python",
      "name": "python",
      "nbconvert_exporter": "python",
      "pygments_lexer": "ipython3",
      "version": "3.7.0"
    },
    "colab": {
      "name": "distance2.ipynb",
      "provenance": [],
      "collapsed_sections": []
    }
  },
  "cells": [
    {
      "cell_type": "markdown",
      "metadata": {
        "id": "fiXI1RgZJdp3"
      },
      "source": [
        "## Find Distance Between Two Coordinates\n",
        "\n",
        "In this code i will find a distance between two points. The different from my last R code (distance1.R) is input of this function will be a string. The coordinate that appears first is the first coordinate, and the coordinate that appears after the comma is the second coordinate."
      ]
    },
    {
      "cell_type": "markdown",
      "metadata": {
        "id": "TZx_zMmbJdp3"
      },
      "source": [
        "##### Example 1:\n",
        "\n",
        "Input: \n",
        "\n",
        "'(5,5), (1,2)'\n",
        "\n",
        "This means, the first point's coordinate is (5,5), the second point's coordinate is (1,2). To calculate the distance between these two points, we use the usual euclidean distance formula here: https://wikimedia.org/api/rest_v1/media/math/render/svg/2e0c9ce1b3455cb9e92c6bad6684dbda02f69c82. \n",
        "\n",
        "The distance is: \n",
        "\n",
        "Square root of ((5-1)^2 + (5-2)^2) = Square root of (16 + 9) = Square root of (25) = 5.\n",
        "\n",
        "Output: 'The distance is 5'\n",
        "\n",
        "So, when we run the code ```distance('(5,5),(1,2)')``` the output will be 'The distance is 5'.\n",
        "\n",
        "##### Example 2:\n",
        "\n",
        "Input:\n",
        "\n",
        "'(0,-1), (-3,2)'\n",
        "\n",
        "The first coordinate is (0,-1), the second coordinate is (-3,2). The distance between them is:\n",
        "\n",
        "Square root of ((0- -3)^2 + (-1-2)^2) = Square root of (9 + 9) = Square root of (18) = 4.242640687\n",
        "\n",
        "Output: 'The distance is 4.242640687'\n",
        "\n",
        "So, when we run the code ```distance('(0,-1),(-3,2)')``` the output will be 'The distance is 4.242640487'"
      ]
    },
    {
      "cell_type": "code",
      "metadata": {
        "id": "qcACpDdPJdp8",
        "colab": {
          "base_uri": "https://localhost:8080/"
        },
        "outputId": "e58af6ac-163b-4095-a223-16180bb1b9cd"
      },
      "source": [
        "### Example\n",
        "a = '(5,5), (1,2)'\n",
        "\n",
        "distance(a) \n",
        "\n",
        "# when you run this cell, it is expected that the output will be:\n",
        "# 'The distance is 5'"
      ],
      "execution_count": null,
      "outputs": [
        {
          "output_type": "stream",
          "name": "stdout",
          "text": [
            "5.0\n"
          ]
        }
      ]
    },
    {
      "cell_type": "code",
      "metadata": {
        "id": "_z7gXtaTJdp9"
      },
      "source": [
        "#For this code i will import 're' module to use '.compile' for extracting number from the string\n",
        "import re\n",
        "def distance(string):\n",
        "  numbers = re.compile('-?\\d+')\n",
        "  ax = list(map(int, numbers.findall(string)))\n",
        "  result = ((ax[2]-ax[0])**2 + (ax[3]-ax[1])**2)**0.5\n",
        "  return(result)"
      ],
      "execution_count": 1,
      "outputs": []
    },
    {
      "cell_type": "code",
      "metadata": {
        "id": "MT6iH_F4Jdp_",
        "colab": {
          "base_uri": "https://localhost:8080/"
        },
        "outputId": "4e0c708d-782e-48d8-ecea-c3052f86cc96"
      },
      "source": [
        "distance('(0,-1),(-3,2)')"
      ],
      "execution_count": 2,
      "outputs": [
        {
          "output_type": "execute_result",
          "data": {
            "text/plain": [
              "4.242640687119285"
            ]
          },
          "metadata": {},
          "execution_count": 2
        }
      ]
    },
    {
      "cell_type": "code",
      "metadata": {
        "id": "ObTz5xL7JdqB",
        "colab": {
          "base_uri": "https://localhost:8080/"
        },
        "outputId": "445b949d-456f-4bcf-9060-914c0cf7157e"
      },
      "source": [
        "distance ('(5,-5), (1,2)')"
      ],
      "execution_count": 3,
      "outputs": [
        {
          "output_type": "execute_result",
          "data": {
            "text/plain": [
              "8.06225774829855"
            ]
          },
          "metadata": {},
          "execution_count": 3
        }
      ]
    }
  ]
}