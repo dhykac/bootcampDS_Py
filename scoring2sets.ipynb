{
  "nbformat": 4,
  "nbformat_minor": 0,
  "metadata": {
    "colab": {
      "name": "scoring2sets.ipynb",
      "provenance": [],
      "collapsed_sections": []
    },
    "kernelspec": {
      "name": "python3",
      "display_name": "Python 3"
    },
    "language_info": {
      "name": "python"
    }
  },
  "cells": [
    {
      "cell_type": "markdown",
      "metadata": {
        "id": "oS1pafKlUrCZ"
      },
      "source": [
        "# Scoring Two Sets Selection Function"
      ]
    },
    {
      "cell_type": "markdown",
      "metadata": {
        "id": "ey5Dl3PChgey"
      },
      "source": [
        "You will receive 3 inputs in this problem.\n",
        "1. The first input will be all numbers in an list/array/vector. \n",
        "2. The second input will be distinct integers which are \"APPROVED\".\n",
        "3. The third input will be distinct integers which are \"NOT APPROVED\".\n",
        "\n",
        "Your function name should be `scoring`. \n",
        "\n",
        "Your function should read all numbers in the array:\n",
        "- If a number belongs to the APPROVED list, your score is added by 1\n",
        "- If a number belongs to the NOT APPROVED list, your score is reduced by 1\n",
        "- If a number does not belong to both list, your score stays the same.\n",
        "\n",
        "Your output will be the final score. \n",
        "\n",
        "\n",
        "#### Example 1:\n",
        "\n",
        "Input = [1,1,1,5,5,2,3,10]\n",
        "\n",
        "Approved = [1,3]\n",
        "\n",
        "Not approved = [5]\n",
        "\n",
        "- Starting score = 0\n",
        "- There are 3 values of '1' in the input. '1' belongs to the APPROVED set. So the score is added by 3. Score = 3\n",
        "- There are 2 values of '5' in the input. '5' belongs to the NOT APPROVED set. So the score is reduced by 2. Score = 1\n",
        "- There are 1 value of '3' in the input. '3' belongs to the APPROVED set. So the score is added by 1. Score = 2.\n",
        "- Final score = 2\n",
        "\n",
        "Output = 2.\n",
        "\n",
        "\n",
        "#### Example 2:\n",
        "\n",
        "Input = [1,2,3,4,10,9,8,7]\n",
        "\n",
        "Approved = [1,10,11]\n",
        "\n",
        "Not approved = [8,5]\n",
        "\n",
        "- Starting score = 0\n",
        "- There are 1 value of '1' in the input. '1' belongs to the APPROVED set. So the score is added by 1. Score = 1\n",
        "- There are 1 value of '10' in the input. '10' belongs to the APPROVED set. So the score is added by 1. Score = 2.\n",
        "- In the approved set, we have the number '11'. But the number '11' is not in the input. So, we don't do anything about it.\n",
        "- There are 1 value of '8' in the input. '8' belongs to the NOT APPROVED set. So the score is reduced by 1. Score = 1.\n",
        "- In the not approved set, we haev the number '5'. But the number '5' is not in the input. So, we don't do anything about it.\n",
        "- Final score = 1. \n",
        "\n",
        "Output = 1."
      ]
    },
    {
      "cell_type": "code",
      "metadata": {
        "id": "LxGTDNMaU2zT"
      },
      "source": [
        "import numpy as np"
      ],
      "execution_count": 1,
      "outputs": []
    },
    {
      "cell_type": "code",
      "metadata": {
        "id": "BOBgXhYFU5nS"
      },
      "source": [
        "def scoring(input_array, approved, not_approved):\n",
        "        number_approved = [x for x in input_array if x in approved]\n",
        "        number_not_approved = [y for y in input_array if y in not_approved]\n",
        "\n",
        "        total_approved = len(number_approved)\n",
        "        total_not_approved = len(number_not_approved)\n",
        "\n",
        "        return total_approved - total_not_approved"
      ],
      "execution_count": 2,
      "outputs": []
    },
    {
      "cell_type": "code",
      "metadata": {
        "colab": {
          "base_uri": "https://localhost:8080/"
        },
        "id": "uzvNe4OaU7L5",
        "outputId": "467a5787-39a4-498a-d819-4928a89ee9fa"
      },
      "source": [
        "print(scoring( [1,1,1,5,5,2,3,10], [1,3], [5]))"
      ],
      "execution_count": 3,
      "outputs": [
        {
          "output_type": "stream",
          "name": "stdout",
          "text": [
            "2\n"
          ]
        }
      ]
    },
    {
      "cell_type": "code",
      "metadata": {
        "colab": {
          "base_uri": "https://localhost:8080/"
        },
        "id": "mEQMwmx1U8-h",
        "outputId": "84cd6de0-70be-48bd-d03a-e9f2a43a1013"
      },
      "source": [
        "print(scoring( [1,2,3,4,10,9,8,7], [1,10,11], [8,5]))"
      ],
      "execution_count": 4,
      "outputs": [
        {
          "output_type": "stream",
          "name": "stdout",
          "text": [
            "1\n"
          ]
        }
      ]
    }
  ]
}