{
  "nbformat": 4,
  "nbformat_minor": 0,
  "metadata": {
    "kernelspec": {
      "display_name": "Python 3",
      "language": "python",
      "name": "python3"
    },
    "language_info": {
      "codemirror_mode": {
        "name": "ipython",
        "version": 3
      },
      "file_extension": ".py",
      "mimetype": "text/x-python",
      "name": "python",
      "nbconvert_exporter": "python",
      "pygments_lexer": "ipython3",
      "version": "3.7.0"
    },
    "colab": {
      "name": "diff_letters.ipynb",
      "provenance": [],
      "collapsed_sections": []
    }
  },
  "cells": [
    {
      "cell_type": "markdown",
      "metadata": {
        "id": "kPc42YPuJdpw"
      },
      "source": [
        "## Different Letters Function\n",
        "\n",
        "In this code, i will create a function that counts how many different letters are there in the input string with the input just a single string"
      ]
    },
    {
      "cell_type": "markdown",
      "metadata": {
        "id": "YtkU_gLYJdpx"
      },
      "source": [
        "##### Example 1:\n",
        "\n",
        "Input: 'AAAAAAAAAB'\n",
        "\n",
        "Since there are only 2 different letters in the input string, the output is 2.\n",
        "\n",
        "When we run ```diff_letters```, the output is '2'.\n",
        "\n",
        "Output: 2\n",
        "\n",
        "##### Example 2:\n",
        "\n",
        "Input: 'ABCDAAAABBCCCE'\n",
        "\n",
        "Since there are 5 different letters in that string (A, B, C, D, E), the output is 5.\n",
        "\n",
        "Output: 5"
      ]
    },
    {
      "cell_type": "code",
      "metadata": {
        "id": "iGxH6AgYq7CM"
      },
      "source": [
        "def diff_letters(string): \n",
        "  return(len(set(string)))"
      ],
      "execution_count": 1,
      "outputs": []
    },
    {
      "cell_type": "code",
      "metadata": {
        "id": "uQkNjT2kJdpz",
        "colab": {
          "base_uri": "https://localhost:8080/"
        },
        "outputId": "d9b4bd0b-2cbb-43c8-8d29-5597a71fe5c9"
      },
      "source": [
        "string = 'ABCDAAAABBCCCE'\n",
        "diff_letters(string)"
      ],
      "execution_count": 2,
      "outputs": [
        {
          "output_type": "execute_result",
          "data": {
            "text/plain": [
              "5"
            ]
          },
          "metadata": {},
          "execution_count": 2
        }
      ]
    },
    {
      "cell_type": "code",
      "metadata": {
        "id": "_BAImneoJdp0",
        "colab": {
          "base_uri": "https://localhost:8080/"
        },
        "outputId": "bf40477a-b3e6-4f16-b7cb-558ea74855f3"
      },
      "source": [
        "string = 'AAAAAAAAAB'\n",
        "diff_letters(string)"
      ],
      "execution_count": 3,
      "outputs": [
        {
          "output_type": "execute_result",
          "data": {
            "text/plain": [
              "2"
            ]
          },
          "metadata": {},
          "execution_count": 3
        }
      ]
    },
    {
      "cell_type": "code",
      "metadata": {
        "colab": {
          "base_uri": "https://localhost:8080/"
        },
        "id": "se4MloRx_Qry",
        "outputId": "dc75516b-bebd-4474-8dfd-d7392b725118"
      },
      "source": [
        "string = 'XYZXYXYZZXY'\n",
        "diff_letters(string)"
      ],
      "execution_count": 7,
      "outputs": [
        {
          "output_type": "execute_result",
          "data": {
            "text/plain": [
              "3"
            ]
          },
          "metadata": {},
          "execution_count": 7
        }
      ]
    },
    {
      "cell_type": "code",
      "metadata": {
        "colab": {
          "base_uri": "https://localhost:8080/"
        },
        "id": "WZmeb-SL_RLY",
        "outputId": "fc8ab1ec-5f3c-45ea-fae7-8aef3842ece3"
      },
      "source": [
        "string = 'KLMNMNLKMNKL'\n",
        "diff_letters(string)"
      ],
      "execution_count": 5,
      "outputs": [
        {
          "output_type": "execute_result",
          "data": {
            "text/plain": [
              "4"
            ]
          },
          "metadata": {},
          "execution_count": 5
        }
      ]
    }
  ]
}
