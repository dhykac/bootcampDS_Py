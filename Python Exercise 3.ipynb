{
  "nbformat": 4,
  "nbformat_minor": 5,
  "metadata": {
    "kernelspec": {
      "display_name": "Python 3",
      "language": "python",
      "name": "python3"
    },
    "language_info": {
      "codemirror_mode": {
        "name": "ipython",
        "version": 3
      },
      "file_extension": ".py",
      "mimetype": "text/x-python",
      "name": "python",
      "nbconvert_exporter": "python",
      "pygments_lexer": "ipython3",
      "version": "3.8.5"
    },
    "colab": {
      "name": "Coding Exercise 5 - Andhyka Cakrabuana Adhitama.ipynb",
      "provenance": [],
      "collapsed_sections": []
    }
  },
  "cells": [
    {
      "cell_type": "markdown",
      "metadata": {
        "id": "GS7XDxrub4Vt"
      },
      "source": [
        "## Welcome to Coding Exercise 5. \n",
        "\n",
        "We'll only have 2 questions and both of them will be difficult. You may import other libraries to help you here. Clue: find out more about the ```itertools``` and ```math``` library."
      ],
      "id": "GS7XDxrub4Vt"
    },
    {
      "cell_type": "code",
      "metadata": {
        "id": "R0T1HBbpKn5O"
      },
      "source": [
        "import itertools as it\n",
        "import math as math"
      ],
      "id": "R0T1HBbpKn5O",
      "execution_count": null,
      "outputs": []
    },
    {
      "cell_type": "markdown",
      "metadata": {
        "id": "hKZWeDJsb4V4"
      },
      "source": [
        "### Question 1.\n",
        "\n",
        "*   List item\n",
        "*   List item\n",
        "\n",
        "\n",
        "### \"Greatest Possible Combination\""
      ],
      "id": "hKZWeDJsb4V4"
    },
    {
      "cell_type": "markdown",
      "metadata": {
        "id": "4rNvxVKvb4V5"
      },
      "source": [
        "We have a function as such:\n",
        "\n",
        "```f(x1, x2, x3) = (x1^2 + x2 * x3) modulo 20 ```\n",
        "\n",
        "Given 3 list/array/vector containing possible values of x1, x2, and x3, find the maximum output possible. \n",
        "\n",
        "#### Explanation:\n",
        "\n",
        "If x1 = 2, x2 = 5, x3 = 3, then...\n",
        "\n",
        "The function's output is: (2^2 + 5 * 3) modulo 20 = (4 + 15) modulo 20 = 19 modulo 20 = 19. \n",
        "\n",
        "\n",
        "If x1 = 3, x2 = 5, x3 = 3, then...\n",
        "\n",
        "The function's output is: (3^2 + 5 * 3) modulo 20 = (9 + 15) modulo 20 = 24 modulo 20 = 4. \n",
        "\n",
        "In this case, since 19 > 4, the combination of (X1 = 2, X2 = 5, X3 = 3) gives a *greater* output value than the combination of (X1 = 3, X2 = 5, X3 = 3).\n",
        "\n",
        "#### Example:\n",
        "\n",
        "- Array X1: [2, 4]\n",
        "- Array X2: [1, 2, 3]\n",
        "- Array x3: [5, 6]\n",
        "\n",
        "How many combinations do we have? \n",
        "1. X1 = 2, X2 = 1, X3 = 5. Output = (2^2 + 1 * 5) modulo 20 = 9 modulo 20 = 9. \n",
        "2. X1 = 2, X2 = 1, X3 = 6. Output = 10\n",
        "3. X1 = 2, X2 = 2, X3 = 5. Output = 14\n",
        "4. X1 = 2, X2 = 2, X3 = 6. Output = 16\n",
        "5. X1 = 2, X2 = 3, X3 = 5. Output = 19\n",
        "6. X1 = 2, X2 = 3, X3 = 6. Output = (2^2 + 3 * 6) modulo 20 = 22 modulo 20 = 2\n",
        "7. X1 = 4, X2 = 1, X3 = 5. Output = 1\n",
        "8. X1 = 4, X2 = 1, X3 = 6. Output = 2\n",
        "9. X1 = 4, X2 = 2, X3 = 5. Output = 6\n",
        "10. X1 = 4, X2 = 2, X3 = 6. Output = 8\n",
        "11. X1 = 4, X2 = 3, X3 = 5. Output = 11\n",
        "12. X1 = 4, X2 = 3, X3 = 6. Output = 14\n",
        "\n",
        "Out of these 12 combinations, what is the maximum output of our function?\n",
        "\n",
        "The maximum output is 19, achieved with X1 = 2, X2 = 3, X3 = 5. \n",
        "\n",
        "Answer : 19\n",
        "\n",
        "(No need to specify the values of X1, X2, X3).\n"
      ],
      "id": "4rNvxVKvb4V5"
    },
    {
      "cell_type": "code",
      "metadata": {
        "id": "YpL_o5_bNInh"
      },
      "source": [
        "from itertools import product"
      ],
      "id": "YpL_o5_bNInh",
      "execution_count": null,
      "outputs": []
    },
    {
      "cell_type": "code",
      "metadata": {
        "id": "NuobPHAJMGsU"
      },
      "source": [
        "x1 = [2,4]\n",
        "x2 = [1,2,3]\n",
        "x3 = [5,6]"
      ],
      "id": "NuobPHAJMGsU",
      "execution_count": null,
      "outputs": []
    },
    {
      "cell_type": "code",
      "metadata": {
        "id": "XVQrOia2b4V8"
      },
      "source": [
        "### Write your solution here ###\n",
        "def rules(x1,x2,x3) :\n",
        "  result = ((x1**2) + (x2 * x3)) % 20\n",
        "  return result\n",
        "\n",
        "def maximum(x1,x2,x3):\n",
        "  all_comb = list(product(*[x1,x2,x3]))\n",
        "  looplist = []\n",
        "  n = len(all_comb)\n",
        "  for i in range(n):\n",
        "   looplist.append(rules( (all_comb[i][0]), (all_comb[i][1]) , (all_comb[i][2]) ))\n",
        "  return max(looplist)"
      ],
      "id": "XVQrOia2b4V8",
      "execution_count": null,
      "outputs": []
    },
    {
      "cell_type": "code",
      "metadata": {
        "id": "145nIEvub4V9",
        "colab": {
          "base_uri": "https://localhost:8080/"
        },
        "outputId": "1331ae43-f23e-48ce-a903-6407537dfec6"
      },
      "source": [
        "maximum(x1,x2,x3)"
      ],
      "id": "145nIEvub4V9",
      "execution_count": null,
      "outputs": [
        {
          "output_type": "execute_result",
          "data": {
            "text/plain": [
              "19"
            ]
          },
          "metadata": {},
          "execution_count": 31
        }
      ]
    },
    {
      "cell_type": "code",
      "metadata": {
        "colab": {
          "base_uri": "https://localhost:8080/"
        },
        "id": "uDLejG23_MPS",
        "outputId": "2062dfea-cc3a-4d52-f177-3e64322b042b"
      },
      "source": [
        "#Check combination\n",
        "x1 = [2,4]\n",
        "x2 = [1,2,3]\n",
        "x3 = [5,6]\n",
        "\n",
        "all_comb = list(product(*[x1,x2,x3]))\n",
        "looplist = []\n",
        "n = len(all_comb)\n",
        "for i in range(n):\n",
        "  looplist.append(rules( (all_comb[i][0]), (all_comb[i][1]) , (all_comb[i][2]) ))\n",
        "\n",
        "looplist"
      ],
      "id": "uDLejG23_MPS",
      "execution_count": null,
      "outputs": [
        {
          "output_type": "execute_result",
          "data": {
            "text/plain": [
              "[9, 10, 14, 16, 19, 2, 1, 2, 6, 8, 11, 14]"
            ]
          },
          "metadata": {},
          "execution_count": 30
        }
      ]
    },
    {
      "cell_type": "code",
      "metadata": {
        "colab": {
          "base_uri": "https://localhost:8080/"
        },
        "id": "LPeXKtFFAQd0",
        "outputId": "72a820f4-dffe-4a42-f74d-5d28961f4dbe"
      },
      "source": [
        "#Check combination for another variable\n",
        "x1 = [3,5]\n",
        "x2 = [2,3,4]\n",
        "x3 = [6,7]\n",
        "\n",
        "all_comb = list(product(*[x1,x2,x3]))\n",
        "looplist = []\n",
        "n = len(all_comb)\n",
        "for i in range(n):\n",
        "  looplist.append(rules( (all_comb[i][0]), (all_comb[i][1]) , (all_comb[i][2]) ))\n",
        "max(looplist)\n",
        "\n",
        "looplist"
      ],
      "id": "LPeXKtFFAQd0",
      "execution_count": null,
      "outputs": [
        {
          "output_type": "execute_result",
          "data": {
            "text/plain": [
              "[1, 3, 7, 10, 13, 17, 17, 19, 3, 6, 9, 13]"
            ]
          },
          "metadata": {},
          "execution_count": 28
        }
      ]
    },
    {
      "cell_type": "code",
      "metadata": {
        "colab": {
          "base_uri": "https://localhost:8080/"
        },
        "id": "-R6rfgoeAHjc",
        "outputId": "1d78304d-cfca-4e4d-c3ff-68c5311f7f9b"
      },
      "source": [
        "#Check combination for another variable\n",
        "x1 = [4,6]\n",
        "x2 = [3,4,5]\n",
        "x3 = [7,8]\n",
        "\n",
        "all_comb = list(product(*[x1,x2,x3]))\n",
        "looplist = []\n",
        "n = len(all_comb)\n",
        "for i in range(n):\n",
        "  looplist.append(rules( (all_comb[i][0]), (all_comb[i][1]) , (all_comb[i][2]) ))\n",
        "max(looplist)\n",
        "\n",
        "looplist"
      ],
      "id": "-R6rfgoeAHjc",
      "execution_count": null,
      "outputs": [
        {
          "output_type": "execute_result",
          "data": {
            "text/plain": [
              "[17, 0, 4, 8, 11, 16, 17, 0, 4, 8, 11, 16]"
            ]
          },
          "metadata": {},
          "execution_count": 29
        }
      ]
    },
    {
      "cell_type": "markdown",
      "metadata": {
        "id": "XHNlZ9wUb4V_"
      },
      "source": [
        "### Question 2. \n",
        "### \"Position in Repeating Series\"\n",
        "\n",
        "\n",
        "Your function will be called ```position``` and it has 3 inputs.\n",
        "\n",
        "This problem has 3 inputs:\n",
        "- The first input, (n), is the maximum number in our series\n",
        "- The second input, (r), is how many times our series will be repeated\n",
        "- The third input, (p), is the position of the desired output.\n",
        "\n",
        "Here are a few examples:\n",
        "\n",
        "- If n = 3, and r = 1, then our series will be: 1,2,3,2,1\n",
        "\n",
        "- If n = 4, and r = 1, then our series will be: 1,2,3,4,3,2,1\n",
        "\n",
        "- If n = 3, and r = 2, then our series will be: 1,2,3,2,1,2,3,2,1\n",
        "\n",
        "- If n = 4, and r = 2, then our series will be: 1,2,3,4,3,2,1,2,3,4,3,2,1\n",
        "\n",
        "- If n = 5, and r = 3, then our series will be: 1,2,3,4,5,4,3,2,1,2,3,4,5,4,3,2,1,2,3,4,5,4,3,2,1\n",
        "\n",
        "Now, what is the meaning of the third input? \n",
        "\n",
        "We want to know what's the value of the number in the position of p. The first number in the series is the first position. This is not the same as index! Indexing in Python starts at 0, and indexing in R starts at 1, so we want to make a standard that applies to both Python and R. \n",
        "\n",
        "#### Example 1\n",
        "\n",
        "n = 3, r = 1, p = 4\n",
        "\n",
        "The series is : 1, 2, 3, 2, 1\n",
        "\n",
        "The 4th number of the series = suku ke - 4 dari barisan tersebut = 2.\n",
        "\n",
        "Answer = 2.\n",
        "\n",
        "#### Example 2\n",
        "\n",
        "n = 3, r = 2, p = 7\n",
        "\n",
        "The series is : 1, 2, 3, 2, 1, 2, 3, 2, 1\n",
        "\n",
        "The 7th number of the series = suku ke - 7 dari barisan tersebut = 3.\n",
        "\n",
        "Answer = 3.\n",
        "\n",
        "#### Example 3\n",
        "\n",
        "n = 4, r = 2, p = 7\n",
        "\n",
        "The series is : 1, 2, 3, 4, 3, 2, 1, 2, 3, 4, 3, 2, 1\n",
        "\n",
        "The 7th number of the series = suku ke - 7 dari barisan tersebut = 1.\n",
        "\n",
        "Answer = 1.\n"
      ],
      "id": "XHNlZ9wUb4V_"
    },
    {
      "cell_type": "code",
      "metadata": {
        "id": "JtFtINYWGXtR"
      },
      "source": [
        "### Write your solution here ###\n",
        "\n",
        "def position(n, r, p):\n",
        "        pos_list = []\n",
        "\n",
        "        for i in range(r):\n",
        "            skin = []\n",
        "            backward = []\n",
        "            for j in range(n):\n",
        "                item = j + 1\n",
        "                skin.append(item)\n",
        "            \n",
        "            backward = sorted(skin, reverse=True)\n",
        "            \n",
        "            if (len(pos_list) > 0):\n",
        "                last = pos_list[-1]\n",
        "                skin_first = skin[0]\n",
        "                if (last == skin_first):\n",
        "                    skin.pop(0)\n",
        "\n",
        "            pos_list.extend(skin)\n",
        "            \n",
        "            last = pos_list[-1]\n",
        "            reverse_first = backward[0]\n",
        "            if (last == reverse_first):\n",
        "                backward.pop(0)\n",
        "            \n",
        "            pos_list.extend(backward)\n",
        "\n",
        "        return pos_list[p - 1]"
      ],
      "id": "JtFtINYWGXtR",
      "execution_count": 11,
      "outputs": []
    },
    {
      "cell_type": "code",
      "metadata": {
        "colab": {
          "base_uri": "https://localhost:8080/"
        },
        "id": "KKhv2AgFAX47",
        "outputId": "f843cce4-d785-432a-9f9f-8af5e9ba20eb"
      },
      "source": [
        "#Example 1\n",
        "n = 3\n",
        "r = 1 \n",
        "p = 4\n",
        "position(n,r,p)"
      ],
      "id": "KKhv2AgFAX47",
      "execution_count": 12,
      "outputs": [
        {
          "output_type": "execute_result",
          "data": {
            "text/plain": [
              "2"
            ]
          },
          "metadata": {},
          "execution_count": 12
        }
      ]
    },
    {
      "cell_type": "code",
      "metadata": {
        "id": "hBL9vLDmlU81",
        "colab": {
          "base_uri": "https://localhost:8080/"
        },
        "outputId": "b1ad0af9-5a4a-4ce7-d147-9dbba3101362"
      },
      "source": [
        "#Example 2\n",
        "n = 3\n",
        "r = 2\n",
        "p = 7\n",
        "position(n,r,p)"
      ],
      "id": "hBL9vLDmlU81",
      "execution_count": 13,
      "outputs": [
        {
          "output_type": "execute_result",
          "data": {
            "text/plain": [
              "3"
            ]
          },
          "metadata": {},
          "execution_count": 13
        }
      ]
    },
    {
      "cell_type": "code",
      "metadata": {
        "id": "OndCBE-Ob4WD",
        "colab": {
          "base_uri": "https://localhost:8080/"
        },
        "outputId": "d55ad69e-c8cc-4920-a7a0-2354d0cbcf2f"
      },
      "source": [
        "#Example 3\n",
        "n = 4\n",
        "r = 2\n",
        "p = 7\n",
        "position(n,r,p)"
      ],
      "id": "OndCBE-Ob4WD",
      "execution_count": 14,
      "outputs": [
        {
          "output_type": "execute_result",
          "data": {
            "text/plain": [
              "1"
            ]
          },
          "metadata": {},
          "execution_count": 14
        }
      ]
    }
  ]
}