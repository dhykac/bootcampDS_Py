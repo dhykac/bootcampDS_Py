{
  "nbformat": 4,
  "nbformat_minor": 5,
  "metadata": {
    "kernelspec": {
      "display_name": "Python 3",
      "language": "python",
      "name": "python3"
    },
    "language_info": {
      "codemirror_mode": {
        "name": "ipython",
        "version": 3
      },
      "file_extension": ".py",
      "mimetype": "text/x-python",
      "name": "python",
      "nbconvert_exporter": "python",
      "pygments_lexer": "ipython3",
      "version": "3.7.0"
    },
    "colab": {
      "name": "Coding EW 7 - Andhyka Cakrabuana Adhitama.ipynb",
      "provenance": [],
      "collapsed_sections": []
    }
  },
  "cells": [
    {
      "cell_type": "markdown",
      "metadata": {
        "id": "e5a925ec"
      },
      "source": [
        "## Coding Exercise 7 - Parsing Dates"
      ],
      "id": "e5a925ec"
    },
    {
      "cell_type": "markdown",
      "metadata": {
        "id": "7af0ac5d"
      },
      "source": [
        "### Question 1: How much time has passed?"
      ],
      "id": "7af0ac5d"
    },
    {
      "cell_type": "markdown",
      "metadata": {
        "id": "hsTNabnM8sVj"
      },
      "source": [
        "When doing Data Science projects, we might come accross data in Date format that refers to a certain point in time. They often come in very different formats - some may only have the date, some may have the month and year, and some even has the exact time (hours, minutes, seconds) and timezone.\n",
        "\n",
        "Clue: You can use any libraries to help you."
      ],
      "id": "hsTNabnM8sVj"
    },
    {
      "cell_type": "code",
      "metadata": {
        "id": "72ed82b3"
      },
      "source": [
        "import datetime\n",
        "import calendar"
      ],
      "id": "72ed82b3",
      "execution_count": null,
      "outputs": []
    },
    {
      "cell_type": "markdown",
      "metadata": {
        "id": "3a084cb1"
      },
      "source": [
        "In this exercise, explore some ways how to load a string that tells us date so we can calculate the difference between the two input dates. \n",
        "\n",
        "You will be tasked to write a function called `duration_count` which takes in 2 inputs. Both of the inputs are string that tells you the date. The output of your function should be the duration between the 2 inputs, in seconds. \n",
        "\n",
        "The input format will be: \"Date Month Year Hour:Minute:Second Timezone_Information\"\n",
        "\n",
        "#### Example 1:\n",
        "\n",
        "- Input 1 = 'Mon 23 Feb 2017 14:41:10 -0800'\n",
        "- Input 2 = 'Mon 23 Feb 2017 14:41:10 -0200'\n",
        "\n",
        "Both inputs refer to the same date and same time, but in different timezones. Therefore, the duration between these two dates are: 6 hours. But, as we want the answer to be in seconds, the expected answer is 21600 seconds. (Just output 21600, you don't have to write seconds).\n",
        "\n",
        "#### Example 2:\n",
        "\n",
        "- Input 1 = 'Mon 23 Dec 2017 14:00:00 -0700'\n",
        "- Input 2 = 'Tue 24 Dec 2017 14:00:00 -0700'\n",
        "\n",
        "Both inputs refer to the same time and are located in the same time zone. However, they are 1 day apart. Therefore, the duration between them are: 1 day = 1 x 24 x 3600 = 86400 seconds.\n",
        "\n",
        "#### Extra Clue:\n",
        "\n",
        "The day format is shortened (we input Mon instead of Monday), and the month is also shortened (we input Dec instead of December)."
      ],
      "id": "3a084cb1"
    },
    {
      "cell_type": "code",
      "metadata": {
        "id": "1185c5da"
      },
      "source": [
        "def duration_count(input1, input2):\n",
        "    startTime = datetime.datetime.strptime(input1, '%a %d %b %Y %H:%M:%S %z' )\n",
        "    endTime = datetime.datetime.strptime(input2, '%a %d %b %Y %H:%M:%S %z')\n",
        "    total = endTime - startTime\n",
        "    return(abs(int(total.total_seconds())))"
      ],
      "id": "1185c5da",
      "execution_count": null,
      "outputs": []
    },
    {
      "cell_type": "code",
      "metadata": {
        "id": "c8268c82",
        "colab": {
          "base_uri": "https://localhost:8080/"
        },
        "outputId": "c47ae9c7-1e30-4e60-ea2e-6a6a9885648f"
      },
      "source": [
        "input1 = 'Mon 23 Feb 2017 14:41:10 -0800'\n",
        "input2 = 'Mon 23 Feb 2017 14:41:10 -0200'\n",
        "print(duration_count(input1, input2))"
      ],
      "id": "c8268c82",
      "execution_count": null,
      "outputs": [
        {
          "output_type": "stream",
          "name": "stdout",
          "text": [
            "21600\n"
          ]
        }
      ]
    },
    {
      "cell_type": "code",
      "metadata": {
        "colab": {
          "base_uri": "https://localhost:8080/"
        },
        "id": "TmUc7I-GYBMj",
        "outputId": "007fa671-4781-46e3-b3b4-203654c4f65c"
      },
      "source": [
        "input1 = 'Mon 23 Dec 2017 14:00:00 -0700'\n",
        "input2 = 'Tue 24 Dec 2017 14:00:00 -0700'\n",
        "print(duration_count(input1, input2))"
      ],
      "id": "TmUc7I-GYBMj",
      "execution_count": null,
      "outputs": [
        {
          "output_type": "stream",
          "name": "stdout",
          "text": [
            "86400\n"
          ]
        }
      ]
    },
    {
      "cell_type": "markdown",
      "metadata": {
        "id": "4f412fd8"
      },
      "source": [
        "### Question 2: What Day is It?"
      ],
      "id": "4f412fd8"
    },
    {
      "cell_type": "markdown",
      "metadata": {
        "id": "39d792d7"
      },
      "source": [
        "In time series data, we usually want to know what day is it. It usually isn't enough to just know the 'number' of date, especially when days matter a lot to our data (example: customer behavior analysis). In a customer behavior analysis scenario, we might find different behaviors in Monday - Friday vs Saturday - Sunday (weekend). Knowing the days also allow us to map some seasonality. \n",
        "\n",
        "Given 3 input: date first, then month, and finally year. Can you tell us what day is it? You can use any library that you want. Your function name should be named `find_day`.\n",
        "\n",
        "#### Example 1:\n",
        "\n",
        "`find_day(11,10,2021)` should give output \"Monday\", as 11 October 2021 is a Monday.\n",
        "\n",
        "#### Example 2:\n",
        "\n",
        "`find_day(17,8,1945)` should give output \"Friday\", as 17 August 1945 is a Friday."
      ],
      "id": "39d792d7"
    },
    {
      "cell_type": "code",
      "metadata": {
        "id": "16IwxwuCpXwS"
      },
      "source": [
        "def find_day(day,month,year):\n",
        "    date=str(day)+\" \"+str(month)+\" \"+str(year)\n",
        "    result = datetime.datetime.strptime(date, '%d %m %Y').weekday()\n",
        "    return (calendar.day_name[result])"
      ],
      "id": "16IwxwuCpXwS",
      "execution_count": null,
      "outputs": []
    },
    {
      "cell_type": "code",
      "metadata": {
        "colab": {
          "base_uri": "https://localhost:8080/",
          "height": 35
        },
        "id": "f2ed9902",
        "outputId": "5e19b195-19bd-4913-d14f-f73d595bf486"
      },
      "source": [
        "find_day(11,10,2021)"
      ],
      "id": "f2ed9902",
      "execution_count": null,
      "outputs": [
        {
          "output_type": "execute_result",
          "data": {
            "application/vnd.google.colaboratory.intrinsic+json": {
              "type": "string"
            },
            "text/plain": [
              "'Monday'"
            ]
          },
          "metadata": {},
          "execution_count": 6
        }
      ]
    },
    {
      "cell_type": "code",
      "metadata": {
        "colab": {
          "base_uri": "https://localhost:8080/",
          "height": 35
        },
        "id": "e1911f45",
        "outputId": "7ddfd56d-f2d0-4435-adb8-395a59166587"
      },
      "source": [
        "find_day(17,8,1945)"
      ],
      "id": "e1911f45",
      "execution_count": null,
      "outputs": [
        {
          "output_type": "execute_result",
          "data": {
            "application/vnd.google.colaboratory.intrinsic+json": {
              "type": "string"
            },
            "text/plain": [
              "'Friday'"
            ]
          },
          "metadata": {},
          "execution_count": 7
        }
      ]
    },
    {
      "cell_type": "code",
      "metadata": {
        "colab": {
          "base_uri": "https://localhost:8080/",
          "height": 35
        },
        "id": "03Uz1k2AqjYj",
        "outputId": "1541bde1-4d86-404a-a0a1-a090bb52b136"
      },
      "source": [
        "find_day(30,11,2021)"
      ],
      "id": "03Uz1k2AqjYj",
      "execution_count": null,
      "outputs": [
        {
          "output_type": "execute_result",
          "data": {
            "application/vnd.google.colaboratory.intrinsic+json": {
              "type": "string"
            },
            "text/plain": [
              "'Tuesday'"
            ]
          },
          "metadata": {},
          "execution_count": 8
        }
      ]
    }
  ]
}