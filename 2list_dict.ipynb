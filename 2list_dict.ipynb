{
  "nbformat": 4,
  "nbformat_minor": 0,
  "metadata": {
    "colab": {
      "name": "2list_dict.ipynb",
      "provenance": [],
      "collapsed_sections": []
    },
    "kernelspec": {
      "name": "python3",
      "display_name": "Python 3"
    },
    "language_info": {
      "name": "python"
    }
  },
  "cells": [
    {
      "cell_type": "markdown",
      "metadata": {
        "id": "zxe3iHtmTnE_"
      },
      "source": [
        "# Create Dictionary From 2 List Function"
      ]
    },
    {
      "cell_type": "markdown",
      "metadata": {
        "id": "2WTK-Z1hhgeo"
      },
      "source": [
        "Given two list/array/vector of the same length. Create a dictionary that maps the first list/array/vector as keys, and the second list/array/vector as values. Your function name should be called ```dictionary```. \n",
        "\n",
        "#### Example 1:\n",
        "\n",
        "- keys = ['Sepuluh', 'Dua puluh', 'Tiga puluh']\n",
        "- values = [10, 20, 30]\n",
        "\n",
        "Your output should be a dictionary that looks like:\n",
        "```{'Ten': 10, 'Twenty': 20, 'Thirty': 30}```\n",
        "\n",
        "#### Example 2:\n",
        "\n",
        "- keys = ['Phone', 'Tablet', 'Laptop']\n",
        "- values = ['iPhone 11', 'iPad Mini', 'Macbook Pro']\n",
        "\n",
        "Your output should be a dictionary that looks like: \n",
        "```{'Phone': 'iPhone 11', 'Tablet': 'iPad Mini', 'Laptop': 'Macbook Pro'}```\n",
        "\n",
        "#### Challenge: Can you write this code with only 1 line? \n",
        "\n",
        "This problem can be solved without looping. To get full point, try to come up with a solution that solves the problem in just one line. What is a one-line solution? Look at the cell below to find out."
      ]
    },
    {
      "cell_type": "code",
      "metadata": {
        "id": "80QBxsIQTW9d"
      },
      "source": [
        "def dictionary(keys, values):\n",
        "  return dict(zip(keys,values))"
      ],
      "execution_count": 1,
      "outputs": []
    },
    {
      "cell_type": "code",
      "metadata": {
        "colab": {
          "base_uri": "https://localhost:8080/"
        },
        "id": "bXm9nn_6T08_",
        "outputId": "f7b01e64-f611-4b5f-ec76-81a0641d27a1"
      },
      "source": [
        "keys = ['Sepuluh', 'Dua puluh', 'Tiga puluh']\n",
        "values = [10, 20, 30]\n",
        "print(dictionary(keys,values))"
      ],
      "execution_count": 2,
      "outputs": [
        {
          "output_type": "stream",
          "name": "stdout",
          "text": [
            "{'Sepuluh': 10, 'Dua puluh': 20, 'Tiga puluh': 30}\n"
          ]
        }
      ]
    },
    {
      "cell_type": "code",
      "metadata": {
        "colab": {
          "base_uri": "https://localhost:8080/"
        },
        "id": "R1JZw4RvT3He",
        "outputId": "87c696a8-8571-498a-cd8e-fae5d9b9f272"
      },
      "source": [
        "keys = ['Phone', 'Tablet', 'Laptop']\n",
        "values = ['iPhone 11', 'iPad Mini', 'Macbook Pro']\n",
        "print(dictionary(keys,values))"
      ],
      "execution_count": 3,
      "outputs": [
        {
          "output_type": "stream",
          "name": "stdout",
          "text": [
            "{'Phone': 'iPhone 11', 'Tablet': 'iPad Mini', 'Laptop': 'Macbook Pro'}\n"
          ]
        }
      ]
    }
  ]
}