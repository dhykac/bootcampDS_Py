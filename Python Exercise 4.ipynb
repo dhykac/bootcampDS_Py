{
  "nbformat": 4,
  "nbformat_minor": 5,
  "metadata": {
    "kernelspec": {
      "display_name": "Python 3",
      "language": "python",
      "name": "python3"
    },
    "language_info": {
      "codemirror_mode": {
        "name": "ipython",
        "version": 3
      },
      "file_extension": ".py",
      "mimetype": "text/x-python",
      "name": "python",
      "nbconvert_exporter": "python",
      "pygments_lexer": "ipython3",
      "version": "3.8.5"
    },
    "colab": {
      "name": "Coding Exercise Week 6 Andhyka Cakrabuana Adhitama.ipynb",
      "provenance": [],
      "collapsed_sections": []
    }
  },
  "cells": [
    {
      "cell_type": "markdown",
      "metadata": {
        "id": "bI5uuO71hgej"
      },
      "source": [
        "## Welcome to Coding Exercise 6"
      ],
      "id": "bI5uuO71hgej"
    },
    {
      "cell_type": "markdown",
      "metadata": {
        "id": "MpYddKjehgem"
      },
      "source": [
        "### Question 1. Points = 20 IF Answer is Correct, 30 IF Answer is Correct and your code consists of only 1 line.\n",
        "### \"Create Dictionary from 2 Lists\""
      ],
      "id": "MpYddKjehgem"
    },
    {
      "cell_type": "markdown",
      "metadata": {
        "id": "2WTK-Z1hhgeo"
      },
      "source": [
        "Given two list/array/vector of the same length. Create a dictionary that maps the first list/array/vector as keys, and the second list/array/vector as values. Your function name should be called ```dictionary```. \n",
        "\n",
        "#### Example 1:\n",
        "\n",
        "- keys = ['Sepuluh', 'Dua puluh', 'Tiga puluh']\n",
        "- values = [10, 20, 30]\n",
        "\n",
        "Your output should be a dictionary that looks like:\n",
        "```{'Ten': 10, 'Twenty': 20, 'Thirty': 30}```\n",
        "\n",
        "#### Example 2:\n",
        "\n",
        "- keys = ['Phone', 'Tablet', 'Laptop']\n",
        "- values = ['iPhone 11', 'iPad Mini', 'Macbook Pro']\n",
        "\n",
        "Your output should be a dictionary that looks like: \n",
        "```{'Phone': 'iPhone 11', 'Tablet': 'iPad Mini', 'Laptop': 'Macbook Pro'}```\n",
        "\n",
        "#### Challenge: Can you write this code with only 1 line? \n",
        "\n",
        "This problem can be solved without looping. To get full point, try to come up with a solution that solves the problem in just one line. What is a one-line solution? Look at the cell below to find out."
      ],
      "id": "2WTK-Z1hhgeo"
    },
    {
      "cell_type": "code",
      "metadata": {
        "id": "jlAl0z3thgep"
      },
      "source": [
        "### THIS IS AN EXAMPLE OF A MULTIPLE LINE SOLUTION ###\n",
        "\n",
        "def penjumlahan(x,y,z):\n",
        "    angka = [x,y,z]\n",
        "    hasil = 0\n",
        "    \n",
        "    for i in angka:\n",
        "        hasil = hasil + i\n",
        "    \n",
        "    return hasil\n",
        "\n",
        "\n",
        "### THIS IS AN EXAMPLE OF A ONE-LINE SOLUTION ###\n",
        "\n",
        "def penjumlahan(x,y,z):\n",
        "    return x + y + z\n",
        "\n",
        "### TRY TO SOLVE THIS PROBLEM WITH ONLY ONE LINE TO RECEIVE FULL SCORE ###"
      ],
      "id": "jlAl0z3thgep",
      "execution_count": null,
      "outputs": []
    },
    {
      "cell_type": "code",
      "metadata": {
        "id": "_hKzSve3lO2x"
      },
      "source": [
        "def dictionary(keys, values):\n",
        "  return dict(zip(keys,values))"
      ],
      "id": "_hKzSve3lO2x",
      "execution_count": null,
      "outputs": []
    },
    {
      "cell_type": "code",
      "metadata": {
        "colab": {
          "base_uri": "https://localhost:8080/"
        },
        "id": "krLURBh2r_8E",
        "outputId": "42a31c7f-f206-489c-902c-259152ffdc15"
      },
      "source": [
        "keys = ['Sepuluh', 'Dua puluh', 'Tiga puluh']\n",
        "values = [10, 20, 30]\n",
        "print(dictionary(keys,values))"
      ],
      "id": "krLURBh2r_8E",
      "execution_count": null,
      "outputs": [
        {
          "output_type": "stream",
          "name": "stdout",
          "text": [
            "{'Sepuluh': 10, 'Dua puluh': 20, 'Tiga puluh': 30}\n"
          ]
        }
      ]
    },
    {
      "cell_type": "code",
      "metadata": {
        "colab": {
          "base_uri": "https://localhost:8080/"
        },
        "id": "1dOdj0Smhges",
        "outputId": "f639dcaa-ef92-4029-d395-7c3955ea1c4f"
      },
      "source": [
        "keys = ['Phone', 'Tablet', 'Laptop']\n",
        "values = ['iPhone 11', 'iPad Mini', 'Macbook Pro']\n",
        "print(dictionary(keys,values))"
      ],
      "id": "1dOdj0Smhges",
      "execution_count": null,
      "outputs": [
        {
          "output_type": "stream",
          "name": "stdout",
          "text": [
            "{'Phone': 'iPhone 11', 'Tablet': 'iPad Mini', 'Laptop': 'Macbook Pro'}\n"
          ]
        }
      ]
    },
    {
      "cell_type": "markdown",
      "metadata": {
        "id": "7itys4Kqhget"
      },
      "source": [
        "### Question 2. Points = 30"
      ],
      "id": "7itys4Kqhget"
    },
    {
      "cell_type": "markdown",
      "metadata": {
        "id": "eLG8DM63hgeu"
      },
      "source": [
        "### \"Fibonacci\""
      ],
      "id": "eLG8DM63hgeu"
    },
    {
      "cell_type": "markdown",
      "metadata": {
        "id": "2hSpCU4mhgeu"
      },
      "source": [
        "Fibonacci is a sequence in which the nth term is the addition of (n-1) and (n-2) term. \n",
        "\n",
        "Fibonacci adalah barisan dimana suku ke-n adalah penjumlahan dari suku ke-(n-1) dan suku ke-(n-2).\n",
        "\n",
        "Your task is to guess the next fibonacci number after the input number, and tell us its position in the fibonacci series.\n",
        "\n",
        "The fibonacci sequence: 0, 1, 1, 2, 3, 5, 8, 13, 21, ....\n",
        "\n",
        "\n",
        "Your function name should be called `fibonacci`.\n",
        "\n",
        "#### Example 1:\n",
        "\n",
        "Input = 14\n",
        "\n",
        "Fibonacci Sequence = 0, 1, 1, 2, 3, 5, 8, 13, 21, ....\n",
        "\n",
        "The next fibonacci number after '14' is 21, and it is the 9th Fibonacci number. (The first fibonacci number is 0, the second fibonacci number is 1, the third fibonacci number is 1, the fourth fibonacci number is 2, etc).\n",
        "\n",
        "So, the answer should be: 'Next Fibonacci number is 21, and it is the 9th Fibonacci number'.\n",
        "\n",
        "\n",
        "#### Example 2:\n",
        "\n",
        "Input = 60\n",
        "\n",
        "Fibonacci Sequence = 0, 1, 1, 2, 3, 5, 8, 13, 21, 34, 55, 89, ...\n",
        "\n",
        "Answer: 'Next Fibonacci number is 89, and it is the 12th Fibonacci number'.\n",
        "\n",
        "\n",
        "#### Example 3:\n",
        "\n",
        "Input = 55\n",
        "\n",
        "Although 55 is a Fibonacci number, we should read the question again. Our task is to guess the NEXT Fibonacci number after our input number. So, the answer should be: 'Next Fibonacci number is 89, and it is the 12th Fibonacci number.'"
      ],
      "id": "2hSpCU4mhgeu"
    },
    {
      "cell_type": "code",
      "metadata": {
        "id": "uFdtfPZgvogo"
      },
      "source": [
        "from math import sqrt\n",
        "from humanize import number"
      ],
      "id": "uFdtfPZgvogo",
      "execution_count": 1,
      "outputs": []
    },
    {
      "cell_type": "code",
      "metadata": {
        "id": "bOB2EUH2wDNT"
      },
      "source": [
        "def fibonacci(n): \n",
        "  if (n < 0) :\n",
        "    return \"No Solution\"\n",
        "  if (n == 0) : \n",
        "    return f\"Next Fibonacci number is {1} and it's 2nd Fibonacci number\"\n",
        "  if (n == 1) : \n",
        "    return f\"Next Fibonacci number is {2} and it's 3rd Fibonacci number\"\n",
        "\n",
        "  n2 = 1\n",
        "  n1 = 1\n",
        "  pos = 4\n",
        "\n",
        "  fibo = n2 + n1\n",
        "\n",
        "  while (fibo <= n) :\n",
        "    pos = pos + 1\n",
        "    n2 = n1\n",
        "    n1 = fibo\n",
        "    fibo = n2+n1\n",
        "\n",
        "  return f\"Next fibonacci number is {fibo} and it's {number.ordinal(pos)} fibonacci number\""
      ],
      "id": "bOB2EUH2wDNT",
      "execution_count": 2,
      "outputs": []
    },
    {
      "cell_type": "code",
      "metadata": {
        "colab": {
          "base_uri": "https://localhost:8080/"
        },
        "id": "ct2kNRk-yf-P",
        "outputId": "ba6059b2-7e5e-4cf5-e0a2-e4ba762cdae7"
      },
      "source": [
        "# Example 1\n",
        "print(fibonacci(14))"
      ],
      "id": "ct2kNRk-yf-P",
      "execution_count": 3,
      "outputs": [
        {
          "output_type": "stream",
          "name": "stdout",
          "text": [
            "Next fibonacci number is 21 and it's 9th fibonacci number\n"
          ]
        }
      ]
    },
    {
      "cell_type": "code",
      "metadata": {
        "colab": {
          "base_uri": "https://localhost:8080/"
        },
        "id": "kvYGsnHEeEFr",
        "outputId": "37112b01-016e-403d-ffa0-161e1b4bcce3"
      },
      "source": [
        "# Example 2\n",
        "print(fibonacci(60))"
      ],
      "id": "kvYGsnHEeEFr",
      "execution_count": 4,
      "outputs": [
        {
          "output_type": "stream",
          "name": "stdout",
          "text": [
            "Next fibonacci number is 89 and it's 12th fibonacci number\n"
          ]
        }
      ]
    },
    {
      "cell_type": "code",
      "metadata": {
        "colab": {
          "base_uri": "https://localhost:8080/"
        },
        "id": "8qOV-m2GyrLV",
        "outputId": "3d609d9f-4e21-41d5-8959-5ed3660ddc05"
      },
      "source": [
        "# Example 3\n",
        "print(fibonacci(55))"
      ],
      "id": "8qOV-m2GyrLV",
      "execution_count": 5,
      "outputs": [
        {
          "output_type": "stream",
          "name": "stdout",
          "text": [
            "Next fibonacci number is 89 and it's 12th fibonacci number\n"
          ]
        }
      ]
    },
    {
      "cell_type": "markdown",
      "metadata": {
        "id": "PGv89hBJhgex"
      },
      "source": [
        "### Question 3. Points = 40"
      ],
      "id": "PGv89hBJhgex"
    },
    {
      "cell_type": "markdown",
      "metadata": {
        "id": "0JuY09jBhgey"
      },
      "source": [
        "### \"Scoring two Sets of Selection\""
      ],
      "id": "0JuY09jBhgey"
    },
    {
      "cell_type": "markdown",
      "metadata": {
        "id": "ey5Dl3PChgey"
      },
      "source": [
        "You will receive 3 inputs in this problem.\n",
        "1. The first input will be all numbers in an list/array/vector. \n",
        "2. The second input will be distinct integers which are \"APPROVED\".\n",
        "3. The third input will be distinct integers which are \"NOT APPROVED\".\n",
        "\n",
        "Your function name should be `scoring`. \n",
        "\n",
        "Your function should read all numbers in the array:\n",
        "- If a number belongs to the APPROVED list, your score is added by 1\n",
        "- If a number belongs to the NOT APPROVED list, your score is reduced by 1\n",
        "- If a number does not belong to both list, your score stays the same.\n",
        "\n",
        "Your output will be the final score. \n",
        "\n",
        "\n",
        "#### Example 1:\n",
        "\n",
        "Input = [1,1,1,5,5,2,3,10]\n",
        "\n",
        "Approved = [1,3]\n",
        "\n",
        "Not approved = [5]\n",
        "\n",
        "- Starting score = 0\n",
        "- There are 3 values of '1' in the input. '1' belongs to the APPROVED set. So the score is added by 3. Score = 3\n",
        "- There are 2 values of '5' in the input. '5' belongs to the NOT APPROVED set. So the score is reduced by 2. Score = 1\n",
        "- There are 1 value of '3' in the input. '3' belongs to the APPROVED set. So the score is added by 1. Score = 2.\n",
        "- Final score = 2\n",
        "\n",
        "Output = 2.\n",
        "\n",
        "\n",
        "#### Example 2:\n",
        "\n",
        "Input = [1,2,3,4,10,9,8,7]\n",
        "\n",
        "Approved = [1,10,11]\n",
        "\n",
        "Not approved = [8,5]\n",
        "\n",
        "- Starting score = 0\n",
        "- There are 1 value of '1' in the input. '1' belongs to the APPROVED set. So the score is added by 1. Score = 1\n",
        "- There are 1 value of '10' in the input. '10' belongs to the APPROVED set. So the score is added by 1. Score = 2.\n",
        "- In the approved set, we have the number '11'. But the number '11' is not in the input. So, we don't do anything about it.\n",
        "- There are 1 value of '8' in the input. '8' belongs to the NOT APPROVED set. So the score is reduced by 1. Score = 1.\n",
        "- In the not approved set, we haev the number '5'. But the number '5' is not in the input. So, we don't do anything about it.\n",
        "- Final score = 1. \n",
        "\n",
        "Output = 1."
      ],
      "id": "ey5Dl3PChgey"
    },
    {
      "cell_type": "code",
      "metadata": {
        "id": "VQ5VnrUuhge0"
      },
      "source": [
        "import numpy as np"
      ],
      "id": "VQ5VnrUuhge0",
      "execution_count": null,
      "outputs": []
    },
    {
      "cell_type": "code",
      "metadata": {
        "id": "LKIsw471hge1"
      },
      "source": [
        "def scoring(input_array, approved, not_approved):\n",
        "        number_approved = [x for x in input_array if x in approved]\n",
        "        number_not_approved = [y for y in input_array if y in not_approved]\n",
        "\n",
        "        total_approved = len(number_approved)\n",
        "        total_not_approved = len(number_not_approved)\n",
        "\n",
        "        return total_approved - total_not_approved"
      ],
      "id": "LKIsw471hge1",
      "execution_count": null,
      "outputs": []
    },
    {
      "cell_type": "code",
      "metadata": {
        "id": "mGy17oVlhge1",
        "colab": {
          "base_uri": "https://localhost:8080/"
        },
        "outputId": "d6b8985e-4ca9-4fa7-ef37-21f8d16c08ea"
      },
      "source": [
        "#Example 1\n",
        "print(scoring( [1,1,1,5,5,2,3,10], [1,3], [5]))"
      ],
      "id": "mGy17oVlhge1",
      "execution_count": null,
      "outputs": [
        {
          "output_type": "stream",
          "name": "stdout",
          "text": [
            "2\n"
          ]
        }
      ]
    },
    {
      "cell_type": "code",
      "metadata": {
        "id": "Z_3OIk72hge2",
        "colab": {
          "base_uri": "https://localhost:8080/"
        },
        "outputId": "6428135f-0367-4bb8-858b-df8a214c15f0"
      },
      "source": [
        "# Example 2\n",
        "print(scoring( [1,2,3,4,10,9,8,7], [1,10,11], [8,5]))"
      ],
      "id": "Z_3OIk72hge2",
      "execution_count": null,
      "outputs": [
        {
          "output_type": "stream",
          "name": "stdout",
          "text": [
            "1\n"
          ]
        }
      ]
    }
  ]
}