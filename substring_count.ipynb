{
  "nbformat": 4,
  "nbformat_minor": 0,
  "metadata": {
    "kernelspec": {
      "display_name": "Python 3",
      "language": "python",
      "name": "python3"
    },
    "language_info": {
      "codemirror_mode": {
        "name": "ipython",
        "version": 3
      },
      "file_extension": ".py",
      "mimetype": "text/x-python",
      "name": "python",
      "nbconvert_exporter": "python",
      "pygments_lexer": "ipython3",
      "version": "3.7.0"
    },
    "colab": {
      "name": "substring_count.ipynb",
      "provenance": [],
      "collapsed_sections": []
    }
  },
  "cells": [
    {
      "cell_type": "markdown",
      "metadata": {
        "id": "ZwHc-3vSJdpj"
      },
      "source": [
        "## Substring Count Function\n",
        "\n",
        "In this code i will try to solve the problem below about how to count how many substing will appear in the given string. The first input of the function is complete string (longer one), and the second input is the substring (shorter one)."
      ]
    },
    {
      "cell_type": "markdown",
      "metadata": {
        "id": "_rD65MuvJdpm"
      },
      "source": [
        "##### Example 1:\n",
        "\n",
        "Input:\n",
        "\n",
        "string = 'ABCDCDC'\n",
        "\n",
        "substring = 'CD'\n",
        "\n",
        "How many times 'CD' appears in 'ABCDCDC'? \n",
        "2 times! So when we run ```substring_count('ABCDCDC', 'CD')``` the output will be '2'. \n",
        "\n",
        "Output: 2\n",
        "\n",
        "##### Example 2:\n",
        "\n",
        "String:\n",
        "\n",
        "string = 'ABCDCDC'\n",
        "\n",
        "substring = 'CDC'\n",
        "\n",
        "How many times 'CDC' appears in 'ABCDCDC'?\n",
        "2 times! Yes, it can overlap. AB**CDC**DC, and ABCD**CDC**. So when we run ```substring_count('ABCDCDC', 'CDC')``` the output will be '2'. \n",
        "\n",
        "Output: 2\n",
        "\n",
        "##### Example 3:\n",
        "\n",
        "string = 'DEDFDEDEDEG'\n",
        "\n",
        "substring = 'DED'\n",
        "\n",
        "How many times 'DED' appears in 'DEDFDEDEDEG'?\n",
        "3 times! First: **DED**FDEDEDEG. Second: DEDF**DED**EDEG. Third: DEDFDE**DED**EG.\n",
        "\n",
        "Output: 3"
      ]
    },
    {
      "cell_type": "code",
      "metadata": {
        "id": "-dQgvKqmJdpp"
      },
      "source": [
        "def substring_count(string, sub):\n",
        "    count = start = 0\n",
        "    while True:\n",
        "        start = string.find(sub, start) + 1\n",
        "        if start > 0:\n",
        "            count+=1\n",
        "        else:\n",
        "            return count      "
      ],
      "execution_count": null,
      "outputs": []
    },
    {
      "cell_type": "code",
      "metadata": {
        "id": "Um0FiJYdJdps",
        "colab": {
          "base_uri": "https://localhost:8080/"
        },
        "outputId": "4daf480f-1ffa-40f8-8f21-108026ab244e"
      },
      "source": [
        "substring_count('ABCDCDC', 'CDC')\n",
        "#Expected output= 2"
      ],
      "execution_count": null,
      "outputs": [
        {
          "output_type": "execute_result",
          "data": {
            "text/plain": [
              "2"
            ]
          },
          "metadata": {},
          "execution_count": 9
        }
      ]
    },
    {
      "cell_type": "code",
      "metadata": {
        "id": "T4YeC9kmJdpv",
        "colab": {
          "base_uri": "https://localhost:8080/"
        },
        "outputId": "7cfa10ef-e2f2-41ec-b206-2b1f2a05d4d8"
      },
      "source": [
        "substring_count('DEDFDEDEDEG','DED')"
      ],
      "execution_count": null,
      "outputs": [
        {
          "output_type": "execute_result",
          "data": {
            "text/plain": [
              "3"
            ]
          },
          "metadata": {},
          "execution_count": 10
        }
      ]
    }
  ]
}
