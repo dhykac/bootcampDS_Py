{
  "nbformat": 4,
  "nbformat_minor": 5,
  "metadata": {
    "kernelspec": {
      "display_name": "Python 3",
      "language": "python",
      "name": "python3"
    },
    "language_info": {
      "codemirror_mode": {
        "name": "ipython",
        "version": 3
      },
      "file_extension": ".py",
      "mimetype": "text/x-python",
      "name": "python",
      "nbconvert_exporter": "python",
      "pygments_lexer": "ipython3",
      "version": "3.8.5"
    },
    "colab": {
      "name": "shiftingarray.ipynb",
      "provenance": [],
      "collapsed_sections": []
    }
  },
  "cells": [
    {
      "cell_type": "markdown",
      "metadata": {
        "id": "yYHzZQQ7VqWo"
      },
      "source": [
        "## Shifting Members of an Array Function"
      ],
      "id": "yYHzZQQ7VqWo"
    },
    {
      "cell_type": "markdown",
      "metadata": {
        "id": "HnQ0f2qIVqWp"
      },
      "source": [
        "In this code, we want to shift our array to the right. How many times? Depends on the input. \n",
        "\n",
        "##### Example 1:\n",
        "array = [1,2,3,4,5]\n",
        "steps = 3\n",
        "\n",
        "We need to shift the array 3 steps to the right. \n",
        "- Original array = [1,2,3,4,5]\n",
        "- Step 1 = [5,1,2,3,4]\n",
        "- Step 2 = [4,5,1,2,3]\n",
        "- Step 3 = [3,4,5,1,2]\n",
        "\n",
        "Answer = [3,4,5,1,2]\n",
        "\n",
        "##### Example 2:\n",
        "array = [1,2,3]\n",
        "steps = 5\n",
        "\n",
        "We need to shift the array 5 steps to the right.\n",
        "\n",
        "- Original array = [1,2,3]\n",
        "- Step 1 = [3,1,2]\n",
        "- Step 2 = [2,3,1]\n",
        "- Step 3 = [1,2,3]\n",
        "- Step 4 = [3,1,2]\n",
        "- Step 5 = [2,3,1]\n",
        "\n",
        "Answer = [2,3,1]"
      ],
      "id": "HnQ0f2qIVqWp"
    },
    {
      "cell_type": "code",
      "metadata": {
        "colab": {
          "base_uri": "https://localhost:8080/"
        },
        "id": "tjUGSiCkycln",
        "outputId": "e9637e4b-aaee-4ff4-f1c9-b6a791120856"
      },
      "source": [
        "shift([1,2,3,4,5],3)"
      ],
      "id": "tjUGSiCkycln",
      "execution_count": null,
      "outputs": [
        {
          "output_type": "execute_result",
          "data": {
            "text/plain": [
              "[3, 4, 5, 1, 2]"
            ]
          },
          "metadata": {},
          "execution_count": 486
        }
      ]
    },
    {
      "cell_type": "code",
      "metadata": {
        "colab": {
          "base_uri": "https://localhost:8080/"
        },
        "id": "hSVsV8ORyjEV",
        "outputId": "8d11d775-bb32-4c47-9ba7-f978471a6bd3"
      },
      "source": [
        "shift([1,2,3],5)"
      ],
      "id": "hSVsV8ORyjEV",
      "execution_count": null,
      "outputs": [
        {
          "output_type": "execute_result",
          "data": {
            "text/plain": [
              "[2, 3, 1]"
            ]
          },
          "metadata": {},
          "execution_count": 487
        }
      ]
    },
    {
      "cell_type": "code",
      "metadata": {
        "id": "fJsYHD2DVqWq"
      },
      "source": [
        "### Write your function here ###\n",
        "def shift(array,steps):\n",
        "  for i in range(0, steps):\n",
        "    last_element = array[-1]\n",
        "\n",
        "    for j in range(len(array) - 1, -1, -1):\n",
        "        array[j] = array[j - 1]\n",
        "\n",
        "    array[0] = last_element\n",
        "  return array"
      ],
      "id": "fJsYHD2DVqWq",
      "execution_count": null,
      "outputs": []
    },
    {
      "cell_type": "code",
      "metadata": {
        "id": "bvmpT8ZxWtQc"
      },
      "source": [
        "### Solution\n",
        "\n",
        "def shift(array,steps):"
      ],
      "id": "bvmpT8ZxWtQc",
      "execution_count": null,
      "outputs": []
    },
    {
      "cell_type": "code",
      "metadata": {
        "id": "qpDQUNijXhd7",
        "colab": {
          "base_uri": "https://localhost:8080/"
        },
        "outputId": "e39c88c5-ec15-410e-c1cd-d59a04c53d0d"
      },
      "source": [
        "shift([1,2,3,4,5],4)\n",
        "\n",
        "# Expected Output: [2, 3, 4, 5, 1]"
      ],
      "id": "qpDQUNijXhd7",
      "execution_count": null,
      "outputs": [
        {
          "output_type": "execute_result",
          "data": {
            "text/plain": [
              "[2, 3, 4, 5, 1]"
            ]
          },
          "metadata": {},
          "execution_count": 2
        }
      ]
    },
    {
      "cell_type": "code",
      "metadata": {
        "id": "jnr5znJUVqWr",
        "colab": {
          "base_uri": "https://localhost:8080/"
        },
        "outputId": "770005c8-7c44-4ae6-99e3-c6b61928c6d2"
      },
      "source": [
        "shift(['andi', 'budi', 'charlie', 'doni'],7)\n",
        "\n",
        "# Expected Output: ['budi', 'charlie', 'doni', 'andi']"
      ],
      "id": "jnr5znJUVqWr",
      "execution_count": null,
      "outputs": [
        {
          "output_type": "execute_result",
          "data": {
            "text/plain": [
              "['budi', 'charlie', 'doni', 'andi']"
            ]
          },
          "metadata": {},
          "execution_count": 3
        }
      ]
    },
    {
      "cell_type": "code",
      "metadata": {
        "id": "LJaWSk-sW9ak",
        "colab": {
          "base_uri": "https://localhost:8080/"
        },
        "outputId": "1a4792c9-fde4-4c5d-9d53-70838872c2a0"
      },
      "source": [
        "shift(['di', 'bim', 'bing', 123, 'data', 'science'],10)\n",
        "\n",
        "# Expected Output: ['bing', 123, 'data', 'science', 'di', 'bim']"
      ],
      "id": "LJaWSk-sW9ak",
      "execution_count": null,
      "outputs": [
        {
          "output_type": "execute_result",
          "data": {
            "text/plain": [
              "['bing', 123, 'data', 'science', 'di', 'bim']"
            ]
          },
          "metadata": {},
          "execution_count": 4
        }
      ]
    }
  ]
}