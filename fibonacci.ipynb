{
  "nbformat": 4,
  "nbformat_minor": 0,
  "metadata": {
    "colab": {
      "name": "fibonacci.ipynb",
      "provenance": []
    },
    "kernelspec": {
      "name": "python3",
      "display_name": "Python 3"
    },
    "language_info": {
      "name": "python"
    }
  },
  "cells": [
    {
      "cell_type": "markdown",
      "metadata": {
        "id": "2hSpCU4mhgeu"
      },
      "source": [
        "# Fibonacci Function\n",
        "\n",
        "Fibonacci is a sequence in which the nth term is the addition of (n-1) and (n-2) term. \n",
        "\n",
        "Your task is to guess the next fibonacci number after the input number, and tell us its position in the fibonacci series.\n",
        "\n",
        "The fibonacci sequence: 0, 1, 1, 2, 3, 5, 8, 13, 21, ....\n",
        "\n",
        "\n",
        "Your function name should be called `fibonacci`.\n",
        "\n",
        "#### Example 1:\n",
        "\n",
        "Input = 14\n",
        "\n",
        "Fibonacci Sequence = 0, 1, 1, 2, 3, 5, 8, 13, 21, ....\n",
        "\n",
        "The next fibonacci number after '14' is 21, and it is the 9th Fibonacci number. (The first fibonacci number is 0, the second fibonacci number is 1, the third fibonacci number is 1, the fourth fibonacci number is 2, etc).\n",
        "\n",
        "So, the answer should be: 'Next Fibonacci number is 21, and it is the 9th Fibonacci number'.\n",
        "\n",
        "\n",
        "#### Example 2:\n",
        "\n",
        "Input = 60\n",
        "\n",
        "Fibonacci Sequence = 0, 1, 1, 2, 3, 5, 8, 13, 21, 34, 55, 89, ...\n",
        "\n",
        "Answer: 'Next Fibonacci number is 89, and it is the 12th Fibonacci number'.\n",
        "\n",
        "\n",
        "#### Example 3:\n",
        "\n",
        "Input = 55\n",
        "\n",
        "Although 55 is a Fibonacci number, we should read the question again. Our task is to guess the NEXT Fibonacci number after our input number. So, the answer should be: 'Next Fibonacci number is 89, and it is the 12th Fibonacci number.'"
      ]
    },
    {
      "cell_type": "code",
      "metadata": {
        "id": "GQiGej8CUBGu"
      },
      "source": [
        "from math import sqrt\n",
        "from humanize import number"
      ],
      "execution_count": 1,
      "outputs": []
    },
    {
      "cell_type": "code",
      "metadata": {
        "id": "8Dgo7XWEUR94"
      },
      "source": [
        "def fibonacci(n): \n",
        "  if (n < 0) :\n",
        "    return \"No Solution\"\n",
        "  if (n == 0) : \n",
        "    return f\"Next Fibonacci number is {1} and it's 2nd Fibonacci number\"\n",
        "  if (n == 1) : \n",
        "    return f\"Next Fibonacci number is {2} and it's 3rd Fibonacci number\"\n",
        "\n",
        "  n2 = 1\n",
        "  n1 = 1\n",
        "  pos = 4\n",
        "\n",
        "  fibo = n2 + n1\n",
        "\n",
        "  while (fibo <= n) :\n",
        "    pos = pos + 1\n",
        "    n2 = n1\n",
        "    n1 = fibo\n",
        "    fibo = n2+n1\n",
        "\n",
        "  return f\"Next fibonacci number is {fibo} and it's {number.ordinal(pos)} fibonacci number\""
      ],
      "execution_count": 2,
      "outputs": []
    },
    {
      "cell_type": "code",
      "metadata": {
        "colab": {
          "base_uri": "https://localhost:8080/"
        },
        "id": "kpaRVDY1UVi2",
        "outputId": "e8c6d3a8-4334-4483-f176-d5f0321addf7"
      },
      "source": [
        "print(fibonacci(14))"
      ],
      "execution_count": 3,
      "outputs": [
        {
          "output_type": "stream",
          "name": "stdout",
          "text": [
            "Next fibonacci number is 21 and it's 9th fibonacci number\n"
          ]
        }
      ]
    },
    {
      "cell_type": "code",
      "metadata": {
        "colab": {
          "base_uri": "https://localhost:8080/"
        },
        "id": "tDwIZi-1UYts",
        "outputId": "10bfadf0-242c-45f3-b7b1-ee727586ed64"
      },
      "source": [
        "print(fibonacci(60))"
      ],
      "execution_count": 4,
      "outputs": [
        {
          "output_type": "stream",
          "name": "stdout",
          "text": [
            "Next fibonacci number is 89 and it's 12th fibonacci number\n"
          ]
        }
      ]
    },
    {
      "cell_type": "code",
      "metadata": {
        "colab": {
          "base_uri": "https://localhost:8080/"
        },
        "id": "o6CMy6ZiUYwP",
        "outputId": "ba260d8a-b770-46ef-80d2-0a5334102093"
      },
      "source": [
        "print(fibonacci(55))"
      ],
      "execution_count": 5,
      "outputs": [
        {
          "output_type": "stream",
          "name": "stdout",
          "text": [
            "Next fibonacci number is 89 and it's 12th fibonacci number\n"
          ]
        }
      ]
    }
  ]
}