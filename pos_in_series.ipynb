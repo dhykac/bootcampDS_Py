{
  "nbformat": 4,
  "nbformat_minor": 0,
  "metadata": {
    "colab": {
      "name": "pos_in_series.ipynb",
      "provenance": []
    },
    "kernelspec": {
      "name": "python3",
      "display_name": "Python 3"
    },
    "language_info": {
      "name": "python"
    }
  },
  "cells": [
    {
      "cell_type": "markdown",
      "metadata": {
        "id": "XHNlZ9wUb4V_"
      },
      "source": [
        "### Position in Repeating Series Function\n",
        "\n",
        "\n",
        "Function will be called ```position``` and it has 3 inputs.\n",
        "\n",
        "This problem has 3 inputs:\n",
        "- The first input, (n), is the maximum number in our series\n",
        "- The second input, (r), is how many times our series will be repeated\n",
        "- The third input, (p), is the position of the desired output.\n",
        "\n",
        "Here are a few examples:\n",
        "\n",
        "- If n = 3, and r = 1, then our series will be: 1,2,3,2,1\n",
        "\n",
        "- If n = 4, and r = 1, then our series will be: 1,2,3,4,3,2,1\n",
        "\n",
        "- If n = 3, and r = 2, then our series will be: 1,2,3,2,1,2,3,2,1\n",
        "\n",
        "- If n = 4, and r = 2, then our series will be: 1,2,3,4,3,2,1,2,3,4,3,2,1\n",
        "\n",
        "- If n = 5, and r = 3, then our series will be: 1,2,3,4,5,4,3,2,1,2,3,4,5,4,3,2,1,2,3,4,5,4,3,2,1\n",
        "\n",
        "Now, what is the meaning of the third input? \n",
        "\n",
        "We want to know what's the value of the number in the position of p. The first number in the series is the first position. This is not the same as index! Indexing in Python starts at 0, and indexing in R starts at 1, so we want to make a standard that applies to both Python and R. \n",
        "\n",
        "#### Example 1\n",
        "\n",
        "n = 3, r = 1, p = 4\n",
        "\n",
        "The series is : 1, 2, 3, 2, 1\n",
        "\n",
        "The 4th number of the series = suku ke - 4 dari barisan tersebut = 2.\n",
        "\n",
        "Answer = 2.\n",
        "\n",
        "#### Example 2\n",
        "\n",
        "n = 3, r = 2, p = 7\n",
        "\n",
        "The series is : 1, 2, 3, 2, 1, 2, 3, 2, 1\n",
        "\n",
        "The 7th number of the series = suku ke - 7 dari barisan tersebut = 3.\n",
        "\n",
        "Answer = 3.\n",
        "\n",
        "#### Example 3\n",
        "\n",
        "n = 4, r = 2, p = 7\n",
        "\n",
        "The series is : 1, 2, 3, 4, 3, 2, 1, 2, 3, 4, 3, 2, 1\n",
        "\n",
        "The 7th number of the series = suku ke - 7 dari barisan tersebut = 1.\n",
        "\n",
        "Answer = 1.\n"
      ]
    },
    {
      "cell_type": "code",
      "metadata": {
        "id": "flIFlhkyEHaB"
      },
      "source": [
        "def position(n, r, p):\n",
        "        pos_list = []\n",
        "\n",
        "        for i in range(r):\n",
        "            skin = []\n",
        "            backward = []\n",
        "            for j in range(n):\n",
        "                item = j + 1\n",
        "                skin.append(item)\n",
        "            \n",
        "            backward = sorted(skin, reverse=True)\n",
        "            \n",
        "            if (len(pos_list) > 0):\n",
        "                last = pos_list[-1]\n",
        "                skin_first = skin[0]\n",
        "                if (last == skin_first):\n",
        "                    skin.pop(0)\n",
        "\n",
        "            pos_list.extend(skin)\n",
        "            \n",
        "            last = pos_list[-1]\n",
        "            reverse_first = backward[0]\n",
        "            if (last == reverse_first):\n",
        "                backward.pop(0)\n",
        "            \n",
        "            pos_list.extend(backward)\n",
        "\n",
        "        return pos_list[p - 1]"
      ],
      "execution_count": 1,
      "outputs": []
    },
    {
      "cell_type": "code",
      "metadata": {
        "colab": {
          "base_uri": "https://localhost:8080/"
        },
        "id": "vvODf4-mE0_7",
        "outputId": "3a8f1ea3-ff30-4e15-ffc5-d667e4b07238"
      },
      "source": [
        "n = 3\n",
        "r = 1 \n",
        "p = 4\n",
        "position(n,r,p)"
      ],
      "execution_count": 2,
      "outputs": [
        {
          "output_type": "execute_result",
          "data": {
            "text/plain": [
              "2"
            ]
          },
          "metadata": {},
          "execution_count": 2
        }
      ]
    },
    {
      "cell_type": "code",
      "metadata": {
        "colab": {
          "base_uri": "https://localhost:8080/"
        },
        "id": "Nk1SoSKFE3jp",
        "outputId": "77878129-cad4-4ced-fea4-98f22d02088e"
      },
      "source": [
        "n = 3\n",
        "r = 2\n",
        "p = 7\n",
        "position(n,r,p)"
      ],
      "execution_count": 3,
      "outputs": [
        {
          "output_type": "execute_result",
          "data": {
            "text/plain": [
              "3"
            ]
          },
          "metadata": {},
          "execution_count": 3
        }
      ]
    },
    {
      "cell_type": "code",
      "metadata": {
        "colab": {
          "base_uri": "https://localhost:8080/"
        },
        "id": "YL3sRrnFE5zf",
        "outputId": "b2bea5d2-8514-4b9c-9c6b-0980fb6f7692"
      },
      "source": [
        "n = 4\n",
        "r = 2\n",
        "p = 7\n",
        "position(n,r,p)"
      ],
      "execution_count": 4,
      "outputs": [
        {
          "output_type": "execute_result",
          "data": {
            "text/plain": [
              "1"
            ]
          },
          "metadata": {},
          "execution_count": 4
        }
      ]
    }
  ]
}