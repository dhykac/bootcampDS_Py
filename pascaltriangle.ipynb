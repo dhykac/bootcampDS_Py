{
  "nbformat": 4,
  "nbformat_minor": 5,
  "metadata": {
    "kernelspec": {
      "display_name": "Python 3",
      "language": "python",
      "name": "python3"
    },
    "language_info": {
      "codemirror_mode": {
        "name": "ipython",
        "version": 3
      },
      "file_extension": ".py",
      "mimetype": "text/x-python",
      "name": "python",
      "nbconvert_exporter": "python",
      "pygments_lexer": "ipython3",
      "version": "3.8.5"
    },
    "colab": {
      "name": "pascaltriangle.ipynb",
      "provenance": [],
      "collapsed_sections": []
    }
  },
  "cells": [
    {
      "cell_type": "markdown",
      "metadata": {
        "id": "MRxU2bsKVqWs"
      },
      "source": [
        "## Pascal Triangle Function"
      ],
      "id": "MRxU2bsKVqWs"
    },
    {
      "cell_type": "markdown",
      "metadata": {
        "id": "hBUS1vtjVqWs"
      },
      "source": [
        "In this code, we want to generate the n-th row of \"Pascal's Triangle\". The function name should be ```pascal```. For those who does not know pascal triangle, watch this video: https://www.youtube.com/watch?v=1D3KsvfB8b0 and read https://www.mathsisfun.com/pascals-triangle.html \n",
        "\n",
        "##### Example 1:\n",
        "Input = 4,\n",
        "\n",
        "Answer = [1,4,6,4,1]\n",
        "\n",
        "##### Example 2:\n",
        "input = 3,\n",
        "\n",
        "Answer = [1,3,3,1]\n",
        "\n"
      ],
      "id": "hBUS1vtjVqWs"
    },
    {
      "cell_type": "code",
      "metadata": {
        "id": "2KDt9NdfVqWt"
      },
      "source": [
        "### Write your solution here ###\n",
        "def pascal(input):\n",
        "    \n",
        "    outp = []\n",
        "    prev = 1\n",
        "    outp.append(prev)\n",
        "    for i in range(1, input + 1):\n",
        "        curr = (prev * (input - i + 1)) // i\n",
        "        prev = curr\n",
        "        outp.append(prev)\n",
        "    \n",
        "    return outp"
      ],
      "id": "2KDt9NdfVqWt",
      "execution_count": null,
      "outputs": []
    },
    {
      "cell_type": "code",
      "metadata": {
        "id": "-Jkxdrn_VqWu"
      },
      "source": [
        "### Solution\n",
        "\n",
        "def pascal(input):"
      ],
      "id": "-Jkxdrn_VqWu",
      "execution_count": null,
      "outputs": []
    },
    {
      "cell_type": "code",
      "metadata": {
        "id": "oRbvyp8oYsrU",
        "colab": {
          "base_uri": "https://localhost:8080/"
        },
        "outputId": "2032f87c-ba95-428c-e1ac-163e35720c24"
      },
      "source": [
        "pascal(3)"
      ],
      "id": "oRbvyp8oYsrU",
      "execution_count": null,
      "outputs": [
        {
          "output_type": "execute_result",
          "data": {
            "text/plain": [
              "[1, 3, 3, 1]"
            ]
          },
          "metadata": {},
          "execution_count": 6
        }
      ]
    },
    {
      "cell_type": "code",
      "metadata": {
        "id": "d4oUf0yJZGY3",
        "colab": {
          "base_uri": "https://localhost:8080/"
        },
        "outputId": "2cf74532-bc77-416b-c395-0c40506b87e1"
      },
      "source": [
        "pascal(5)"
      ],
      "id": "d4oUf0yJZGY3",
      "execution_count": null,
      "outputs": [
        {
          "output_type": "execute_result",
          "data": {
            "text/plain": [
              "[1, 5, 10, 10, 5, 1]"
            ]
          },
          "metadata": {},
          "execution_count": 7
        }
      ]
    }
  ]
}