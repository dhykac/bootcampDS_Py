{
  "nbformat": 4,
  "nbformat_minor": 0,
  "metadata": {
    "colab": {
      "name": "greater_comb.ipynb",
      "provenance": [],
      "collapsed_sections": []
    },
    "kernelspec": {
      "name": "python3",
      "display_name": "Python 3"
    },
    "language_info": {
      "name": "python"
    }
  },
  "cells": [
    {
      "cell_type": "markdown",
      "metadata": {
        "id": "VErVecvzDRce"
      },
      "source": [
        "# Greatest Possible Combination Function"
      ]
    },
    {
      "cell_type": "code",
      "metadata": {
        "id": "kennS9bmC2KE"
      },
      "source": [
        "import itertools as it\n",
        "import math as math\n",
        "from itertools import product"
      ],
      "execution_count": 1,
      "outputs": []
    },
    {
      "cell_type": "markdown",
      "metadata": {
        "id": "4rNvxVKvb4V5"
      },
      "source": [
        "We have a function as such:\n",
        "\n",
        "```f(x1, x2, x3) = (x1^2 + x2 * x3) modulo 20 ```\n",
        "\n",
        "Given 3 list/array/vector containing possible values of x1, x2, and x3, find the maximum output possible. \n",
        "\n",
        "#### Explanation:\n",
        "\n",
        "If x1 = 2, x2 = 5, x3 = 3, then...\n",
        "\n",
        "The function's output is: (2^2 + 5 * 3) modulo 20 = (4 + 15) modulo 20 = 19 modulo 20 = 19. \n",
        "\n",
        "\n",
        "If x1 = 3, x2 = 5, x3 = 3, then...\n",
        "\n",
        "The function's output is: (3^2 + 5 * 3) modulo 20 = (9 + 15) modulo 20 = 24 modulo 20 = 4. \n",
        "\n",
        "In this case, since 19 > 4, the combination of (X1 = 2, X2 = 5, X3 = 3) gives a *greater* output value than the combination of (X1 = 3, X2 = 5, X3 = 3).\n",
        "\n",
        "#### Example:\n",
        "\n",
        "- Array X1: [2, 4]\n",
        "- Array X2: [1, 2, 3]\n",
        "- Array x3: [5, 6]\n",
        "\n",
        "How many combinations do we have? \n",
        "1. X1 = 2, X2 = 1, X3 = 5. Output = (2^2 + 1 * 5) modulo 20 = 9 modulo 20 = 9. \n",
        "2. X1 = 2, X2 = 1, X3 = 6. Output = 10\n",
        "3. X1 = 2, X2 = 2, X3 = 5. Output = 14\n",
        "4. X1 = 2, X2 = 2, X3 = 6. Output = 16\n",
        "5. X1 = 2, X2 = 3, X3 = 5. Output = 19\n",
        "6. X1 = 2, X2 = 3, X3 = 6. Output = (2^2 + 3 * 6) modulo 20 = 22 modulo 20 = 2\n",
        "7. X1 = 4, X2 = 1, X3 = 5. Output = 1\n",
        "8. X1 = 4, X2 = 1, X3 = 6. Output = 2\n",
        "9. X1 = 4, X2 = 2, X3 = 5. Output = 6\n",
        "10. X1 = 4, X2 = 2, X3 = 6. Output = 8\n",
        "11. X1 = 4, X2 = 3, X3 = 5. Output = 11\n",
        "12. X1 = 4, X2 = 3, X3 = 6. Output = 14\n",
        "\n",
        "Out of these 12 combinations, what is the maximum output of our function?\n",
        "\n",
        "The maximum output is 19, achieved with X1 = 2, X2 = 3, X3 = 5. \n",
        "\n",
        "Answer : 19\n",
        "\n",
        "(No need to specify the values of X1, X2, X3).\n"
      ]
    },
    {
      "cell_type": "code",
      "metadata": {
        "id": "O6lKwdBoC9L_"
      },
      "source": [
        "x1 = [2,4]\n",
        "x2 = [1,2,3]\n",
        "x3 = [5,6]"
      ],
      "execution_count": 2,
      "outputs": []
    },
    {
      "cell_type": "code",
      "metadata": {
        "id": "SHUiWDQZDrmw"
      },
      "source": [
        "def rules(x1,x2,x3) :\n",
        "  result = ((x1**2) + (x2 * x3)) % 20\n",
        "  return result\n",
        "\n",
        "def maximum(x1,x2,x3):\n",
        "  all_comb = list(product(*[x1,x2,x3]))\n",
        "  looplist = []\n",
        "  n = len(all_comb)\n",
        "  for i in range(n):\n",
        "   looplist.append(rules( (all_comb[i][0]), (all_comb[i][1]) , (all_comb[i][2]) ))\n",
        "  return max(looplist)"
      ],
      "execution_count": 3,
      "outputs": []
    },
    {
      "cell_type": "code",
      "metadata": {
        "colab": {
          "base_uri": "https://localhost:8080/"
        },
        "id": "wfVwXihjD2Ya",
        "outputId": "3443879a-0de8-45f4-fd2e-d8c09c64d72e"
      },
      "source": [
        "maximum(x1,x2,x3)"
      ],
      "execution_count": 4,
      "outputs": [
        {
          "output_type": "execute_result",
          "data": {
            "text/plain": [
              "19"
            ]
          },
          "metadata": {},
          "execution_count": 4
        }
      ]
    }
  ]
}