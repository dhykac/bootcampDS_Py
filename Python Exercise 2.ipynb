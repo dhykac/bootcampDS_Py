{
  "nbformat": 4,
  "nbformat_minor": 5,
  "metadata": {
    "kernelspec": {
      "display_name": "Python 3",
      "language": "python",
      "name": "python3"
    },
    "language_info": {
      "codemirror_mode": {
        "name": "ipython",
        "version": 3
      },
      "file_extension": ".py",
      "mimetype": "text/x-python",
      "name": "python",
      "nbconvert_exporter": "python",
      "pygments_lexer": "ipython3",
      "version": "3.8.5"
    },
    "colab": {
      "name": "Coding Exercise 4 Dhyka.ipynb",
      "provenance": [],
      "collapsed_sections": []
    }
  },
  "cells": [
    {
      "cell_type": "markdown",
      "metadata": {
        "id": "rgyHha0XVqWk"
      },
      "source": [
        "## Welcome to Coding Exercise 4\n",
        "**You only need to solve 2 question only**"
      ],
      "id": "rgyHha0XVqWk"
    },
    {
      "cell_type": "markdown",
      "metadata": {
        "id": "yYHzZQQ7VqWo"
      },
      "source": [
        "### Question 1. \n",
        "### \"Shifting Members of an Array\""
      ],
      "id": "yYHzZQQ7VqWo"
    },
    {
      "cell_type": "markdown",
      "metadata": {
        "id": "HnQ0f2qIVqWp"
      },
      "source": [
        "In this question, we want to shift our array to the right. How many times? Depends on the input. \n",
        "\n",
        "##### Example 1:\n",
        "array = [1,2,3,4,5]\n",
        "steps = 3\n",
        "\n",
        "We need to shift the array 3 steps to the right. \n",
        "- Original array = [1,2,3,4,5]\n",
        "- Step 1 = [5,1,2,3,4]\n",
        "- Step 2 = [4,5,1,2,3]\n",
        "- Step 3 = [3,4,5,1,2]\n",
        "\n",
        "Answer = [3,4,5,1,2]\n",
        "\n",
        "##### Example 2:\n",
        "array = [1,2,3]\n",
        "steps = 5\n",
        "\n",
        "We need to shift the array 5 steps to the right.\n",
        "\n",
        "- Original array = [1,2,3]\n",
        "- Step 1 = [3,1,2]\n",
        "- Step 2 = [2,3,1]\n",
        "- Step 3 = [1,2,3]\n",
        "- Step 4 = [3,1,2]\n",
        "- Step 5 = [2,3,1]\n",
        "\n",
        "Answer = [2,3,1]"
      ],
      "id": "HnQ0f2qIVqWp"
    },
    {
      "cell_type": "code",
      "metadata": {
        "colab": {
          "base_uri": "https://localhost:8080/"
        },
        "id": "tjUGSiCkycln",
        "outputId": "e9637e4b-aaee-4ff4-f1c9-b6a791120856"
      },
      "source": [
        "shift([1,2,3,4,5],3)"
      ],
      "id": "tjUGSiCkycln",
      "execution_count": null,
      "outputs": [
        {
          "output_type": "execute_result",
          "data": {
            "text/plain": [
              "[3, 4, 5, 1, 2]"
            ]
          },
          "metadata": {},
          "execution_count": 486
        }
      ]
    },
    {
      "cell_type": "code",
      "metadata": {
        "colab": {
          "base_uri": "https://localhost:8080/"
        },
        "id": "hSVsV8ORyjEV",
        "outputId": "8d11d775-bb32-4c47-9ba7-f978471a6bd3"
      },
      "source": [
        "shift([1,2,3],5)"
      ],
      "id": "hSVsV8ORyjEV",
      "execution_count": null,
      "outputs": [
        {
          "output_type": "execute_result",
          "data": {
            "text/plain": [
              "[2, 3, 1]"
            ]
          },
          "metadata": {},
          "execution_count": 487
        }
      ]
    },
    {
      "cell_type": "code",
      "metadata": {
        "id": "fJsYHD2DVqWq"
      },
      "source": [
        "### Write your function here ###\n",
        "def shift(array,steps):\n",
        "  for i in range(0, steps):\n",
        "    last_element = array[-1]\n",
        "\n",
        "    for j in range(len(array) - 1, -1, -1):\n",
        "        array[j] = array[j - 1]\n",
        "\n",
        "    array[0] = last_element\n",
        "  return array"
      ],
      "id": "fJsYHD2DVqWq",
      "execution_count": null,
      "outputs": []
    },
    {
      "cell_type": "code",
      "metadata": {
        "id": "bvmpT8ZxWtQc"
      },
      "source": [
        "### Solution\n",
        "\n",
        "def shift(array,steps):"
      ],
      "id": "bvmpT8ZxWtQc",
      "execution_count": null,
      "outputs": []
    },
    {
      "cell_type": "code",
      "metadata": {
        "id": "qpDQUNijXhd7",
        "colab": {
          "base_uri": "https://localhost:8080/"
        },
        "outputId": "6851da2c-57cd-41ea-c3d6-43d83af2f039"
      },
      "source": [
        "shift([1,2,3,4,5],4)\n",
        "\n",
        "# Expected Output: [2, 3, 4, 5, 1]"
      ],
      "id": "qpDQUNijXhd7",
      "execution_count": null,
      "outputs": [
        {
          "output_type": "execute_result",
          "data": {
            "text/plain": [
              "[2, 3, 4, 5, 1]"
            ]
          },
          "metadata": {},
          "execution_count": 483
        }
      ]
    },
    {
      "cell_type": "code",
      "metadata": {
        "id": "jnr5znJUVqWr",
        "colab": {
          "base_uri": "https://localhost:8080/"
        },
        "outputId": "3dc8736e-5a57-42ea-8497-317be2b8ac7d"
      },
      "source": [
        "shift(['andi', 'budi', 'charlie', 'doni'],7)\n",
        "\n",
        "# Expected Output: ['budi', 'charlie', 'doni', 'andi']"
      ],
      "id": "jnr5znJUVqWr",
      "execution_count": null,
      "outputs": [
        {
          "output_type": "execute_result",
          "data": {
            "text/plain": [
              "['budi', 'charlie', 'doni', 'andi']"
            ]
          },
          "metadata": {},
          "execution_count": 484
        }
      ]
    },
    {
      "cell_type": "code",
      "metadata": {
        "id": "LJaWSk-sW9ak",
        "colab": {
          "base_uri": "https://localhost:8080/"
        },
        "outputId": "65d1e951-eda4-4884-a3b8-eb27998aa14b"
      },
      "source": [
        "shift(['di', 'bim', 'bing', 123, 'data', 'science'],10)\n",
        "\n",
        "# Expected Output: ['bing', 123, 'data', 'science', 'di', 'bim']"
      ],
      "id": "LJaWSk-sW9ak",
      "execution_count": null,
      "outputs": [
        {
          "output_type": "execute_result",
          "data": {
            "text/plain": [
              "['bing', 123, 'data', 'science', 'di', 'bim']"
            ]
          },
          "metadata": {},
          "execution_count": 485
        }
      ]
    },
    {
      "cell_type": "markdown",
      "metadata": {
        "id": "MRxU2bsKVqWs"
      },
      "source": [
        "### Question 2. \n",
        "### \"Segitiga Paskal\""
      ],
      "id": "MRxU2bsKVqWs"
    },
    {
      "cell_type": "markdown",
      "metadata": {
        "id": "hBUS1vtjVqWs"
      },
      "source": [
        "We want to generate the n-th row of \"Pascal's Triangle\". Your function name should be ```pascal```. For those who does not know pascal triangle, watch this video: https://www.youtube.com/watch?v=1D3KsvfB8b0 and read https://www.mathsisfun.com/pascals-triangle.html \n",
        "\n",
        "##### Example 1:\n",
        "Input = 4,\n",
        "\n",
        "Answer = [1,4,6,4,1]\n",
        "\n",
        "##### Example 2:\n",
        "input = 3,\n",
        "\n",
        "Answer = [1,3,3,1]\n",
        "\n"
      ],
      "id": "hBUS1vtjVqWs"
    },
    {
      "cell_type": "code",
      "metadata": {
        "id": "2KDt9NdfVqWt"
      },
      "source": [
        "### Write your solution here ###\n",
        "def pascal(input):\n",
        "    \n",
        "    outp = []\n",
        "    prev = 1\n",
        "    outp.append(prev)\n",
        "    for i in range(1, input + 1):\n",
        "        curr = (prev * (input - i + 1)) // i\n",
        "        prev = curr\n",
        "        outp.append(prev)\n",
        "    \n",
        "    return outp"
      ],
      "id": "2KDt9NdfVqWt",
      "execution_count": null,
      "outputs": []
    },
    {
      "cell_type": "code",
      "metadata": {
        "id": "-Jkxdrn_VqWu"
      },
      "source": [
        "### Solution\n",
        "\n",
        "def pascal(input):"
      ],
      "id": "-Jkxdrn_VqWu",
      "execution_count": null,
      "outputs": []
    },
    {
      "cell_type": "code",
      "metadata": {
        "id": "oRbvyp8oYsrU",
        "colab": {
          "base_uri": "https://localhost:8080/"
        },
        "outputId": "642a81ca-2b0d-4f95-ce75-ddd51c4a8772"
      },
      "source": [
        "pascal(3)"
      ],
      "id": "oRbvyp8oYsrU",
      "execution_count": null,
      "outputs": [
        {
          "output_type": "execute_result",
          "data": {
            "text/plain": [
              "[1, 3, 3, 1]"
            ]
          },
          "metadata": {},
          "execution_count": 490
        }
      ]
    },
    {
      "cell_type": "code",
      "metadata": {
        "id": "d4oUf0yJZGY3",
        "colab": {
          "base_uri": "https://localhost:8080/"
        },
        "outputId": "b900ab84-381b-49a4-f356-f22b27561b8e"
      },
      "source": [
        "pascal(5)"
      ],
      "id": "d4oUf0yJZGY3",
      "execution_count": null,
      "outputs": [
        {
          "output_type": "execute_result",
          "data": {
            "text/plain": [
              "[1, 5, 10, 10, 5, 1]"
            ]
          },
          "metadata": {},
          "execution_count": 493
        }
      ]
    },
    {
      "cell_type": "markdown",
      "metadata": {
        "id": "UJFlJIG_VqWv"
      },
      "source": [
        "### Question 3"
      ],
      "id": "UJFlJIG_VqWv"
    },
    {
      "cell_type": "markdown",
      "metadata": {
        "id": "q_vw2BtGVqWv"
      },
      "source": [
        "### \"Maximum Distance Between 3 Points\""
      ],
      "id": "q_vw2BtGVqWv"
    },
    {
      "cell_type": "markdown",
      "metadata": {
        "id": "k6qNbSInVqWw"
      },
      "source": [
        "Given three coordinates, determine which two points are the furthest apart, and output the length of their distance. Your function should be called ```max_distance```. First coordinate is called 'A', second coordinate is called 'B', third coordinate is called 'C'. \n",
        "\n",
        "\n",
        "##### Example:\n",
        "A = [1,2],\n",
        "B = [10,-10],\n",
        "C = [-3, 5]\n",
        "\n",
        "- The distance between AB = 15\n",
        "- The distance between BC = 19.8\n",
        "- The distance between AC = 8.06\n",
        "\n",
        "Answer = \"The point B, C are furthest apart with distance 19.8\"\n"
      ],
      "id": "k6qNbSInVqWw"
    },
    {
      "cell_type": "code",
      "metadata": {
        "id": "vrtCLk3DmcMl"
      },
      "source": [
        "A = [1,2]\n",
        "B = [10,-10]\n",
        "C = [-3, 5]"
      ],
      "id": "vrtCLk3DmcMl",
      "execution_count": null,
      "outputs": []
    },
    {
      "cell_type": "code",
      "metadata": {
        "id": "la5u9FV4VqWw"
      },
      "source": [
        "### Write your solution here ###\n",
        "from math import sqrt\n",
        "\n",
        "p = []\n",
        "p.append(A)\n",
        "p.append(B)\n",
        "p.append(C)\n",
        "\n",
        "def dist(p1,p2):\n",
        "    x0 = p1[0] - p2[0]\n",
        "    y0 = p1[1] - p2[1]\n",
        "    return x0 * x0 + y0 * y0\n",
        "\n",
        "def maxDist(p):\n",
        " \n",
        "    n = len(p)\n",
        "    maxm = 0\n",
        "    for i in range(n):\n",
        "        for j in range(i + 1, n):\n",
        "             maxm = max(maxm, dist(p[i], p[j]) )\n",
        "    return sqrt(maxm)\n",
        "\n",
        "def max_distance(A,B,C):\n",
        "  n = 3\n",
        "  P = [\"A\", \"B\", \"C\"]\n",
        "  result = []\n",
        "  \n",
        "  for i in range(n):\n",
        "    for j in range(i + 1, n):\n",
        "      if maxDist(p) == sqrt(dist(p[i], p[j])):\n",
        "        result.append('The point')\n",
        "        result.append(P[i])\n",
        "        result.append(P[j])\n",
        "        result.append('are furthest apart with distance')\n",
        "        result.append(maxDist(p))\n",
        "        return ' '.join(str(e) for e in result)"
      ],
      "id": "la5u9FV4VqWw",
      "execution_count": null,
      "outputs": []
    },
    {
      "cell_type": "code",
      "metadata": {
        "colab": {
          "base_uri": "https://localhost:8080/",
          "height": 35
        },
        "id": "dloyof5bRTJN",
        "outputId": "da495120-3751-47df-8899-8ff2ee7016ce"
      },
      "source": [
        "max_distance(A,B,C)"
      ],
      "id": "dloyof5bRTJN",
      "execution_count": null,
      "outputs": [
        {
          "output_type": "execute_result",
          "data": {
            "application/vnd.google.colaboratory.intrinsic+json": {
              "type": "string"
            },
            "text/plain": [
              "'The point B C are furthest apart with distance 19.849433241279208'"
            ]
          },
          "metadata": {},
          "execution_count": 496
        }
      ]
    }
  ]
}